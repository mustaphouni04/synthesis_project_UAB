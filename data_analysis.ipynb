{
 "cells": [
  {
   "cell_type": "code",
   "execution_count": 10,
   "metadata": {},
   "outputs": [],
   "source": [
    "import pandas as pd\n",
    "from pandas import DataFrame\n"
   ]
  },
  {
   "cell_type": "code",
   "execution_count": 11,
   "metadata": {},
   "outputs": [
    {
     "name": "stdout",
     "output_type": "stream",
     "text": [
      "             server_name   remote_host remote_logname remote_user  \\\n",
      "0      sitgesanytime.com   47.76.35.19              -           -   \n",
      "1  www.sitgesanytime.com   47.76.35.19              -           -   \n",
      "2  www.sitgesanytime.com  40.77.167.53              -           -   \n",
      "3      sitgesanytime.com   47.76.35.19              -           -   \n",
      "4  www.sitgesanytime.com   47.76.35.19              -           -   \n",
      "5      sitgesanytime.com   47.76.35.19              -           -   \n",
      "6  www.sitgesanytime.com   47.76.35.19              -           -   \n",
      "7      sitgesanytime.com   47.76.35.19              -           -   \n",
      "8  www.sitgesanytime.com   47.76.35.19              -           -   \n",
      "9      sitgesanytime.com   47.76.35.19              -           -   \n",
      "\n",
      "                    timestamp request_method  \\\n",
      "0  22/Jan/2024:00:00:00 +0100           HEAD   \n",
      "1  22/Jan/2024:00:00:01 +0100           HEAD   \n",
      "2  22/Jan/2024:00:00:06 +0100            GET   \n",
      "3  22/Jan/2024:00:00:06 +0100           HEAD   \n",
      "4  22/Jan/2024:00:00:07 +0100           HEAD   \n",
      "5  22/Jan/2024:00:00:08 +0100            GET   \n",
      "6  22/Jan/2024:00:00:08 +0100            GET   \n",
      "7  22/Jan/2024:00:00:12 +0100           HEAD   \n",
      "8  22/Jan/2024:00:00:13 +0100           HEAD   \n",
      "9  22/Jan/2024:00:00:13 +0100            GET   \n",
      "\n",
      "                                       requested_url status_code bytes_sent  \\\n",
      "0  /fr/pag492/explora-platges-i-ports-2/id12/les-...         301       4840   \n",
      "1  /fr/pag492/explora-platges-i-ports-2/id12/les-...         200       5223   \n",
      "2  /ca/noticias/84/sitges-obt%C3%A9-el-certificat...         404       2509   \n",
      "3  /fr/pag492/explora-platges-i-ports-2/id12/les-...         301       4840   \n",
      "4  /fr/pag492/explora-platges-i-ports-2/id12/les-...         200       5260   \n",
      "5  /fr/pag492/explora-platges-i-ports-2/id12/les-...         301        661   \n",
      "6  /fr/pag492/explora-platges-i-ports-2/id12/les-...         200      10196   \n",
      "7  /fr/pag492/explora-platges-i-ports-2/id12/les-...         301       4840   \n",
      "8  /fr/pag492/explora-platges-i-ports-2/id12/les-...         200       5260   \n",
      "9  /fr/pag492/explora-platges-i-ports-2/id12/les-...         301        661   \n",
      "\n",
      "  referer                                         user_agent  \n",
      "0       -  Mozilla/5.0 (Windows NT 10.0; Win64; x64) Appl...  \n",
      "1       -  Mozilla/5.0 (Windows NT 10.0; Win64; x64) Appl...  \n",
      "2       -  Mozilla/5.0 AppleWebKit/537.36 (KHTML, like Ge...  \n",
      "3       -  Mozilla/5.0 (Windows NT 6.1; Win64; x64) Apple...  \n",
      "4       -  Mozilla/5.0 (Windows NT 6.1; Win64; x64) Apple...  \n",
      "5       -  Mozilla/5.0 (Windows NT 6.1; Win64; x64) Apple...  \n",
      "6       -  Mozilla/5.0 (Windows NT 6.1; Win64; x64) Apple...  \n",
      "7       -  Mozilla/5.0 (Windows NT 6.3; Win64; x64) Apple...  \n",
      "8       -  Mozilla/5.0 (Windows NT 6.3; Win64; x64) Apple...  \n",
      "9       -  Mozilla/5.0 (Windows NT 6.3; Win64; x64) Apple...  \n"
     ]
    }
   ],
   "source": [
    "import pandas as pd\n",
    "import re\n",
    "import os\n",
    "\n",
    "# define a function to parse each log entry\n",
    "def parse_log_entry(log_entry):\n",
    "    # define a regular expression pattern to extract information from the log entry\n",
    "    pattern = r'(?P<server_name>[\\w.-]+) (?P<remote_host>\\S+) (?P<remote_logname>\\S+) (?P<remote_user>\\S+) \\[(?P<timestamp>[^\\]]+)\\] \"(?P<request_method>[A-Z]+) (?P<requested_url>\\S+) HTTP/\\d\\.\\d\" (?P<status_code>\\d+) (?P<bytes_sent>\\d+) \"(?P<referer>[^\"]+)\" \"(?P<user_agent>[^\"]+)\"'\n",
    "    \n",
    "    # match the pattern against the log entry\n",
    "    match = re.match(pattern, log_entry)\n",
    "    \n",
    "    if match:\n",
    "        return match.groupdict()\n",
    "    else:\n",
    "        return None\n",
    "\n",
    "\n",
    "logs_directory = \"logs\"\n",
    "\n",
    "# list all files in the directory\n",
    "log_files = [f for f in os.listdir(logs_directory) if os.path.isfile(os.path.join(logs_directory, f))]\n",
    "\n",
    "# list to store parsed log entries\n",
    "all_log_entries = []\n",
    "\n",
    "# process each log file\n",
    "for log_file in log_files:\n",
    "    log_file_path = os.path.join(logs_directory, log_file)\n",
    "    \n",
    "    # read log file line by line and parse each entry\n",
    "    with open(log_file_path, 'r') as file:\n",
    "        for line in file:\n",
    "            log_entry = parse_log_entry(line.strip())\n",
    "            if log_entry:\n",
    "                all_log_entries.append(log_entry)\n",
    "\n",
    "# convert list of dictionaries to DataFrame\n",
    "df = pd.DataFrame(all_log_entries)\n",
    "\n",
    "# display the DataFrame\n",
    "print(df.head(10))  # Displaying the first 10 rows of the combined DataFrame"
   ]
  },
  {
   "cell_type": "code",
   "execution_count": 12,
   "metadata": {},
   "outputs": [
    {
     "data": {
      "text/plain": [
       "0          HEAD\n",
       "1          HEAD\n",
       "2           GET\n",
       "3          HEAD\n",
       "4          HEAD\n",
       "           ... \n",
       "1076917     GET\n",
       "1076918     GET\n",
       "1076919     GET\n",
       "1076920     GET\n",
       "1076921     GET\n",
       "Name: request_method, Length: 1076922, dtype: object"
      ]
     },
     "execution_count": 12,
     "metadata": {},
     "output_type": "execute_result"
    }
   ],
   "source": [
    "df['request_method']"
   ]
  },
  {
   "cell_type": "code",
   "execution_count": 13,
   "metadata": {},
   "outputs": [
    {
     "name": "stdout",
     "output_type": "stream",
     "text": [
      "0          /fr/pag492/explora-platges-i-ports-2/id12/les-...\n",
      "1          /fr/pag492/explora-platges-i-ports-2/id12/les-...\n",
      "2          /ca/noticias/84/sitges-obt%C3%A9-el-certificat...\n",
      "3          /fr/pag492/explora-platges-i-ports-2/id12/les-...\n",
      "4          /fr/pag492/explora-platges-i-ports-2/id12/les-...\n",
      "                                 ...                        \n",
      "1076917    /plantilles/turisme/eltemps/wstemps.php?site=1...\n",
      "1076918                /plantilles/turisme/img/temps3/31.svg\n",
      "1076919                                                    /\n",
      "1076920                                                 /en/\n",
      "1076921     /plantilles/turisme/css/estils-capcalera.css?v=3\n",
      "Name: requested_url, Length: 1076922, dtype: object\n",
      "0          301\n",
      "1          200\n",
      "2          404\n",
      "3          301\n",
      "4          200\n",
      "          ... \n",
      "1076917    200\n",
      "1076918    200\n",
      "1076919    301\n",
      "1076920    200\n",
      "1076921    200\n",
      "Name: status_code, Length: 1076922, dtype: object\n",
      "0           4840\n",
      "1           5223\n",
      "2           2509\n",
      "3           4840\n",
      "4           5260\n",
      "           ...  \n",
      "1076917      454\n",
      "1076918     4871\n",
      "1076919      302\n",
      "1076920    11438\n",
      "1076921     2759\n",
      "Name: bytes_sent, Length: 1076922, dtype: object\n"
     ]
    }
   ],
   "source": [
    "print(df['requested_url'])\n",
    "\n",
    "print(df['status_code'])\n",
    "\n",
    "print(df['bytes_sent'])\n"
   ]
  },
  {
   "cell_type": "code",
   "execution_count": 14,
   "metadata": {},
   "outputs": [
    {
     "name": "stdout",
     "output_type": "stream",
     "text": [
      "CSV file saved successfully: combined_logs.csv\n"
     ]
    }
   ],
   "source": [
    "# save the DataFrame to a CSV file\n",
    "csv_file_path = \"combined_logs.csv\"\n",
    "df.to_csv(csv_file_path, index=False)\n",
    "\n",
    "print(f\"CSV file saved successfully: {csv_file_path}\")"
   ]
  },
  {
   "cell_type": "code",
   "execution_count": 15,
   "metadata": {},
   "outputs": [
    {
     "name": "stdout",
     "output_type": "stream",
     "text": [
      "Mozilla/5.0 (Windows NT 10.0; Win64; x64) AppleWebKit/537.36 (KHTML, like Gecko) Chrome/61.0.3928.157 Safari/537.36\n"
     ]
    }
   ],
   "source": [
    "print(df['user_agent'][0])"
   ]
  },
  {
   "cell_type": "markdown",
   "metadata": {},
   "source": [
    "### Variables insights\n",
    "* server_name is **not** important for training the models **(not done)**\n",
    "* remote_host is important and has been split into octets and normalized **(done)**\n",
    "* remote_logname is **not** important for training the models **(not done)**\n",
    "* remote_user **may** be important, we just have to consider that there's \"-\" values that need to be handled **(not done)**\n",
    "* timestamp is important and has been split into hour, second, day, and cyclic encoding for training NN (sine, cosine) **(done)**\n",
    "* request_method is important and it has been one-hot encoded, not label because model may learn that there's an order between things **(done)**\n",
    "* requested_url is important and it has been vectorized using word embeddings with dimensionality 300 **(done)**\n",
    "* status_code is important and we need to one hot encode (possibly) the feature and analyze its unique values **(not done)**\n",
    "* bytes_sent **may** be important but we also need to take into account that its value is properly normalized within a range **(not done)**\n",
    "* referer and user_agent are both important and need to be analyzed (possibly embeddings to vectorize) **(not done)**"
   ]
  }
 ],
 "metadata": {
  "kernelspec": {
   "display_name": "Python 3 (ipykernel)",
   "language": "python",
   "name": "python3"
  },
  "language_info": {
   "codemirror_mode": {
    "name": "ipython",
    "version": 3
   },
   "file_extension": ".py",
   "mimetype": "text/x-python",
   "name": "python",
   "nbconvert_exporter": "python",
   "pygments_lexer": "ipython3",
   "version": "3.9.18"
  }
 },
 "nbformat": 4,
 "nbformat_minor": 4
}
