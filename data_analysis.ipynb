{
 "cells": [
  {
   "cell_type": "code",
   "execution_count": 8,
   "metadata": {},
   "outputs": [],
   "source": [
    "import advertools as adv\n",
    "import pandas as pd\n",
    "from pandas import DataFrame\n"
   ]
  },
  {
   "cell_type": "code",
   "execution_count": 25,
   "metadata": {},
   "outputs": [
    {
     "name": "stdout",
     "output_type": "stream",
     "text": [
      "             server_name   remote_host remote_logname remote_user  \\\n",
      "0      sitgesanytime.com   47.76.35.19              -           -   \n",
      "1  www.sitgesanytime.com   47.76.35.19              -           -   \n",
      "2  www.sitgesanytime.com  40.77.167.53              -           -   \n",
      "3      sitgesanytime.com   47.76.35.19              -           -   \n",
      "4  www.sitgesanytime.com   47.76.35.19              -           -   \n",
      "5      sitgesanytime.com   47.76.35.19              -           -   \n",
      "6  www.sitgesanytime.com   47.76.35.19              -           -   \n",
      "7      sitgesanytime.com   47.76.35.19              -           -   \n",
      "8  www.sitgesanytime.com   47.76.35.19              -           -   \n",
      "9      sitgesanytime.com   47.76.35.19              -           -   \n",
      "\n",
      "                    timestamp request_method  \\\n",
      "0  22/Jan/2024:00:00:00 +0100           HEAD   \n",
      "1  22/Jan/2024:00:00:01 +0100           HEAD   \n",
      "2  22/Jan/2024:00:00:06 +0100            GET   \n",
      "3  22/Jan/2024:00:00:06 +0100           HEAD   \n",
      "4  22/Jan/2024:00:00:07 +0100           HEAD   \n",
      "5  22/Jan/2024:00:00:08 +0100            GET   \n",
      "6  22/Jan/2024:00:00:08 +0100            GET   \n",
      "7  22/Jan/2024:00:00:12 +0100           HEAD   \n",
      "8  22/Jan/2024:00:00:13 +0100           HEAD   \n",
      "9  22/Jan/2024:00:00:13 +0100            GET   \n",
      "\n",
      "                                       requested_url status_code bytes_sent  \\\n",
      "0  /fr/pag492/explora-platges-i-ports-2/id12/les-...         301       4840   \n",
      "1  /fr/pag492/explora-platges-i-ports-2/id12/les-...         200       5223   \n",
      "2  /ca/noticias/84/sitges-obt%C3%A9-el-certificat...         404       2509   \n",
      "3  /fr/pag492/explora-platges-i-ports-2/id12/les-...         301       4840   \n",
      "4  /fr/pag492/explora-platges-i-ports-2/id12/les-...         200       5260   \n",
      "5  /fr/pag492/explora-platges-i-ports-2/id12/les-...         301        661   \n",
      "6  /fr/pag492/explora-platges-i-ports-2/id12/les-...         200      10196   \n",
      "7  /fr/pag492/explora-platges-i-ports-2/id12/les-...         301       4840   \n",
      "8  /fr/pag492/explora-platges-i-ports-2/id12/les-...         200       5260   \n",
      "9  /fr/pag492/explora-platges-i-ports-2/id12/les-...         301        661   \n",
      "\n",
      "  referer                                         user_agent  \n",
      "0       -  Mozilla/5.0 (Windows NT 10.0; Win64; x64) Appl...  \n",
      "1       -  Mozilla/5.0 (Windows NT 10.0; Win64; x64) Appl...  \n",
      "2       -  Mozilla/5.0 AppleWebKit/537.36 (KHTML, like Ge...  \n",
      "3       -  Mozilla/5.0 (Windows NT 6.1; Win64; x64) Apple...  \n",
      "4       -  Mozilla/5.0 (Windows NT 6.1; Win64; x64) Apple...  \n",
      "5       -  Mozilla/5.0 (Windows NT 6.1; Win64; x64) Apple...  \n",
      "6       -  Mozilla/5.0 (Windows NT 6.1; Win64; x64) Apple...  \n",
      "7       -  Mozilla/5.0 (Windows NT 6.3; Win64; x64) Apple...  \n",
      "8       -  Mozilla/5.0 (Windows NT 6.3; Win64; x64) Apple...  \n",
      "9       -  Mozilla/5.0 (Windows NT 6.3; Win64; x64) Apple...  \n"
     ]
    }
   ],
   "source": [
    "import pandas as pd\n",
    "import re\n",
    "\n",
    "# define a function to parse each log entry\n",
    "def parse_log_entry(log_entry):\n",
    "    # define a regular expression pattern to extract information from the log entry\n",
    "    pattern = r'(?P<server_name>[\\w.-]+) (?P<remote_host>\\S+) (?P<remote_logname>\\S+) (?P<remote_user>\\S+) \\[(?P<timestamp>[^\\]]+)\\] \"(?P<request_method>[A-Z]+) (?P<requested_url>\\S+) HTTP/\\d\\.\\d\" (?P<status_code>\\d+) (?P<bytes_sent>\\d+) \"(?P<referer>[^\"]+)\" \"(?P<user_agent>[^\"]+)\"'\n",
    "    \n",
    "    # match the pattern against the log entry\n",
    "    match = re.match(pattern, log_entry)\n",
    "    \n",
    "    if match:\n",
    "        return match.groupdict()\n",
    "    else:\n",
    "        return None\n",
    "\n",
    "# read log file line by line and parse each entry\n",
    "log_file_path = \"logs\\sitges_access.20240122.log\"\n",
    "log_entries = []\n",
    "\n",
    "with open(log_file_path, 'r') as file:\n",
    "    for line in file:\n",
    "        log_entry = parse_log_entry(line.strip())\n",
    "        if log_entry:\n",
    "            log_entries.append(log_entry)\n",
    "\n",
    "# convert list of dictionaries to DataFrame\n",
    "df = pd.DataFrame(log_entries)\n",
    "\n",
    "# display the DataFrame\n",
    "print(df.head(10))\n"
   ]
  },
  {
   "cell_type": "code",
   "execution_count": 27,
   "metadata": {},
   "outputs": [
    {
     "data": {
      "text/plain": [
       "0         HEAD\n",
       "1         HEAD\n",
       "2          GET\n",
       "3         HEAD\n",
       "4         HEAD\n",
       "          ... \n",
       "182456    POST\n",
       "182457     GET\n",
       "182458     GET\n",
       "182459     GET\n",
       "182460     GET\n",
       "Name: request_method, Length: 182461, dtype: object"
      ]
     },
     "execution_count": 27,
     "metadata": {},
     "output_type": "execute_result"
    }
   ],
   "source": [
    "df['request_method']"
   ]
  },
  {
   "cell_type": "code",
   "execution_count": 30,
   "metadata": {},
   "outputs": [
    {
     "name": "stdout",
     "output_type": "stream",
     "text": [
      "0         /fr/pag492/explora-platges-i-ports-2/id12/les-...\n",
      "1         /fr/pag492/explora-platges-i-ports-2/id12/les-...\n",
      "2         /ca/noticias/84/sitges-obt%C3%A9-el-certificat...\n",
      "3         /fr/pag492/explora-platges-i-ports-2/id12/les-...\n",
      "4         /fr/pag492/explora-platges-i-ports-2/id12/les-...\n",
      "                                ...                        \n",
      "182456                                    /comu/cookies.php\n",
      "182457    /plantilles/turisme/eltemps/wstemps.php?site=1...\n",
      "182458                /plantilles/turisme/img/temps3/31.svg\n",
      "182459    /de/pl30/planen-sie-ihre-reise/sitges-auf-eine...\n",
      "182460    /es/pl415/blog/llistat-blog/id109/sitgestiu-20...\n",
      "Name: requested_url, Length: 182461, dtype: object\n",
      "0         301\n",
      "1         200\n",
      "2         404\n",
      "3         301\n",
      "4         200\n",
      "         ... \n",
      "182456    200\n",
      "182457    200\n",
      "182458    200\n",
      "182459    200\n",
      "182460    200\n",
      "Name: status_code, Length: 182461, dtype: object\n",
      "0          4840\n",
      "1          5223\n",
      "2          2509\n",
      "3          4840\n",
      "4          5260\n",
      "          ...  \n",
      "182456      717\n",
      "182457      454\n",
      "182458     4825\n",
      "182459    14196\n",
      "182460    22706\n",
      "Name: bytes_sent, Length: 182461, dtype: object\n"
     ]
    }
   ],
   "source": [
    "print(df['requested_url'])\n",
    "\n",
    "print(df['status_code'])\n",
    "\n",
    "print(df['bytes_sent'])\n"
   ]
  },
  {
   "cell_type": "code",
   "execution_count": 17,
   "metadata": {},
   "outputs": [
    {
     "data": {
      "text/html": [
       "<div>\n",
       "<style scoped>\n",
       "    .dataframe tbody tr th:only-of-type {\n",
       "        vertical-align: middle;\n",
       "    }\n",
       "\n",
       "    .dataframe tbody tr th {\n",
       "        vertical-align: top;\n",
       "    }\n",
       "\n",
       "    .dataframe thead th {\n",
       "        text-align: right;\n",
       "    }\n",
       "</style>\n",
       "<table border=\"1\" class=\"dataframe\">\n",
       "  <thead>\n",
       "    <tr style=\"text-align: right;\">\n",
       "      <th></th>\n",
       "      <th>server_name</th>\n",
       "      <th>remote_host</th>\n",
       "      <th>remote_logname</th>\n",
       "      <th>remote_user</th>\n",
       "      <th>timestamp</th>\n",
       "      <th>request</th>\n",
       "      <th>status</th>\n",
       "      <th>bytes</th>\n",
       "      <th>referer</th>\n",
       "      <th>user_agent</th>\n",
       "    </tr>\n",
       "  </thead>\n",
       "  <tbody>\n",
       "  </tbody>\n",
       "</table>\n",
       "</div>"
      ],
      "text/plain": [
       "Empty DataFrame\n",
       "Columns: [server_name, remote_host, remote_logname, remote_user, timestamp, request, status, bytes, referer, user_agent]\n",
       "Index: []"
      ]
     },
     "execution_count": 17,
     "metadata": {},
     "output_type": "execute_result"
    }
   ],
   "source": [
    "import pandas as pd\n",
    "\n",
    "# read\n",
    "df = pd.read_parquet('sitges_access.20240122.parquet')\n",
    "\n",
    "df.head()"
   ]
  },
  {
   "cell_type": "code",
   "execution_count": null,
   "metadata": {},
   "outputs": [],
   "source": []
  }
 ],
 "metadata": {
  "kernelspec": {
   "display_name": "base",
   "language": "python",
   "name": "python3"
  },
  "language_info": {
   "codemirror_mode": {
    "name": "ipython",
    "version": 3
   },
   "file_extension": ".py",
   "mimetype": "text/x-python",
   "name": "python",
   "nbconvert_exporter": "python",
   "pygments_lexer": "ipython3",
   "version": "3.10.13"
  }
 },
 "nbformat": 4,
 "nbformat_minor": 2
}
