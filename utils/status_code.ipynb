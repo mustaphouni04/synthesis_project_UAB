{
 "cells": [
  {
   "cell_type": "code",
   "execution_count": 2,
   "id": "fc6f2595-a912-400c-8f24-5435828741ab",
   "metadata": {},
   "outputs": [
    {
     "data": {
      "text/plain": [
       "0    301\n",
       "1    200\n",
       "2    404\n",
       "3    301\n",
       "4    200\n",
       "Name: status_code, dtype: int64"
      ]
     },
     "execution_count": 2,
     "metadata": {},
     "output_type": "execute_result"
    }
   ],
   "source": [
    "import pandas as pd\n",
    "# load data\n",
    "df = pd.read_csv(\"../combined_logs.csv\")\n",
    "\n",
    "df['status_code'].head()"
   ]
  },
  {
   "cell_type": "code",
   "execution_count": 4,
   "id": "c8dbe453-79db-43cd-99a1-2e8be87a751c",
   "metadata": {},
   "outputs": [
    {
     "name": "stdout",
     "output_type": "stream",
     "text": [
      "301\n",
      "200\n",
      "404\n",
      "206\n",
      "304\n",
      "403\n",
      "400\n",
      "302\n",
      "401\n",
      "504\n"
     ]
    }
   ],
   "source": [
    "unique_values = df['status_code'].unique()\n",
    "\n",
    "for value in unique_values:\n",
    "    print(value)"
   ]
  },
  {
   "cell_type": "code",
   "execution_count": 5,
   "id": "8716c9c5-d1b8-4de4-bbe4-973855611c02",
   "metadata": {},
   "outputs": [
    {
     "name": "stdout",
     "output_type": "stream",
     "text": [
      "             server_name   remote_host remote_logname remote_user  \\\n",
      "0      sitgesanytime.com   47.76.35.19              -           -   \n",
      "1  www.sitgesanytime.com   47.76.35.19              -           -   \n",
      "2  www.sitgesanytime.com  40.77.167.53              -           -   \n",
      "3      sitgesanytime.com   47.76.35.19              -           -   \n",
      "4  www.sitgesanytime.com   47.76.35.19              -           -   \n",
      "\n",
      "                    timestamp request_method  \\\n",
      "0  22/Jan/2024:00:00:00 +0100           HEAD   \n",
      "1  22/Jan/2024:00:00:01 +0100           HEAD   \n",
      "2  22/Jan/2024:00:00:06 +0100            GET   \n",
      "3  22/Jan/2024:00:00:06 +0100           HEAD   \n",
      "4  22/Jan/2024:00:00:07 +0100           HEAD   \n",
      "\n",
      "                                       requested_url  bytes_sent referer  \\\n",
      "0  /fr/pag492/explora-platges-i-ports-2/id12/les-...        4840       -   \n",
      "1  /fr/pag492/explora-platges-i-ports-2/id12/les-...        5223       -   \n",
      "2  /ca/noticias/84/sitges-obt%C3%A9-el-certificat...        2509       -   \n",
      "3  /fr/pag492/explora-platges-i-ports-2/id12/les-...        4840       -   \n",
      "4  /fr/pag492/explora-platges-i-ports-2/id12/les-...        5260       -   \n",
      "\n",
      "                                          user_agent  status_code_200  \\\n",
      "0  Mozilla/5.0 (Windows NT 10.0; Win64; x64) Appl...            False   \n",
      "1  Mozilla/5.0 (Windows NT 10.0; Win64; x64) Appl...             True   \n",
      "2  Mozilla/5.0 AppleWebKit/537.36 (KHTML, like Ge...            False   \n",
      "3  Mozilla/5.0 (Windows NT 6.1; Win64; x64) Apple...            False   \n",
      "4  Mozilla/5.0 (Windows NT 6.1; Win64; x64) Apple...             True   \n",
      "\n",
      "   status_code_206  status_code_301  status_code_302  status_code_304  \\\n",
      "0            False             True            False            False   \n",
      "1            False            False            False            False   \n",
      "2            False            False            False            False   \n",
      "3            False             True            False            False   \n",
      "4            False            False            False            False   \n",
      "\n",
      "   status_code_400  status_code_401  status_code_403  status_code_404  \\\n",
      "0            False            False            False            False   \n",
      "1            False            False            False            False   \n",
      "2            False            False            False             True   \n",
      "3            False            False            False            False   \n",
      "4            False            False            False            False   \n",
      "\n",
      "   status_code_504  \n",
      "0            False  \n",
      "1            False  \n",
      "2            False  \n",
      "3            False  \n",
      "4            False  \n"
     ]
    }
   ],
   "source": [
    "one_hot_encoded = pd.get_dummies(df['status_code'], prefix='status_code')\n",
    "df_encoded = pd.concat([df, one_hot_encoded], axis=1)\n",
    "df_encoded.drop('status_code', axis=1, inplace=True)\n",
    "\n",
    "print(df_encoded.head())"
   ]
  },
  {
   "cell_type": "code",
   "execution_count": null,
   "id": "b7223962-55ff-4919-8443-028b2183e19c",
   "metadata": {},
   "outputs": [],
   "source": []
  }
 ],
 "metadata": {
  "kernelspec": {
   "display_name": "Python 3.9 (tf4)",
   "language": "python",
   "name": "tensorflowv4"
  },
  "language_info": {
   "codemirror_mode": {
    "name": "ipython",
    "version": 3
   },
   "file_extension": ".py",
   "mimetype": "text/x-python",
   "name": "python",
   "nbconvert_exporter": "python",
   "pygments_lexer": "ipython3",
   "version": "3.9.18"
  }
 },
 "nbformat": 4,
 "nbformat_minor": 5
}
