{
 "cells": [
  {
   "cell_type": "code",
   "execution_count": 1,
   "id": "34900830-7952-41a6-a213-35400f9cca32",
   "metadata": {},
   "outputs": [],
   "source": [
    "import pandas as pd\n",
    "\n",
    "df = pd.read_csv('../../preprocessed.csv')"
   ]
  },
  {
   "cell_type": "code",
   "execution_count": 4,
   "id": "28d33a25-3b80-4eed-ae7a-860e96dd7cbf",
   "metadata": {},
   "outputs": [],
   "source": [
    "from tensorflow.keras.preprocessing.sequence import pad_sequences\n",
    "grouped = df.groupby('remote_host')"
   ]
  },
  {
   "cell_type": "code",
   "execution_count": 6,
   "id": "7820fd40-b279-455e-a376-a81d960f0c6b",
   "metadata": {},
   "outputs": [],
   "source": [
    "remote_hosts_ordered = [remote_host for remote_host, _ in grouped]\n",
    "#print(remote_hosts_ordered)"
   ]
  },
  {
   "cell_type": "code",
   "execution_count": 8,
   "id": "489f9299-31aa-4d9b-ac6a-9e15690cb7fc",
   "metadata": {},
   "outputs": [],
   "source": [
    "import numpy as np\n",
    "max_timesteps = 20\n",
    "sequences = []\n",
    "for remote_host, group_data in grouped:\n",
    "    # drop 'remote_host' column as it's no longer needed for individual sequences\n",
    "    group_data = group_data.drop(columns=['remote_host'])\n",
    "    \n",
    "    # convert the DataFrame to numpy array\n",
    "    sequence_array = group_data.to_numpy()\n",
    "    \n",
    "    # pad the sequence with zeros if it's shorter than max_timesteps\n",
    "    padded_sequence = pad_sequences([sequence_array], maxlen=max_timesteps, dtype='float32', padding='post', truncating='post')\n",
    "    \n",
    "    # append the padded sequence to the list of sequences\n",
    "    sequences.append(padded_sequence)\n",
    "\n",
    "# stack all sequences to create the final input array for the LSTM\n",
    "X = np.vstack(sequences)\n"
   ]
  },
  {
   "cell_type": "code",
   "execution_count": 9,
   "id": "cb023fca-4c36-4642-9ecf-937d41230936",
   "metadata": {},
   "outputs": [
    {
     "name": "stdout",
     "output_type": "stream",
     "text": [
      "[[-7.95538723e-02  2.41719623e-04  0.00000000e+00 -1.19185217e-01\n",
      "   2.58819044e-01 -9.65925813e-01 -6.69130623e-01 -7.43144810e-01\n",
      "   0.00000000e+00  1.00000000e+00  1.00000000e+00  0.00000000e+00\n",
      "   0.00000000e+00  0.00000000e+00  0.00000000e+00  0.00000000e+00\n",
      "   0.00000000e+00  0.00000000e+00  0.00000000e+00  0.00000000e+00\n",
      "   0.00000000e+00  1.00000000e+00  0.00000000e+00  0.00000000e+00\n",
      "   0.00000000e+00]\n",
      " [ 5.78533173e-01  1.84416022e-05  9.10599530e-01 -1.19185217e-01\n",
      "   2.58819044e-01 -9.65925813e-01 -6.69130623e-01 -7.43144810e-01\n",
      "   1.04528464e-01  9.94521916e-01  1.00000000e+00  0.00000000e+00\n",
      "   0.00000000e+00  0.00000000e+00  0.00000000e+00  0.00000000e+00\n",
      "   0.00000000e+00  0.00000000e+00  0.00000000e+00  0.00000000e+00\n",
      "   0.00000000e+00  1.00000000e+00  0.00000000e+00  0.00000000e+00\n",
      "   0.00000000e+00]\n",
      " [ 2.86653161e-01  6.32053241e-04  9.10599530e-01 -1.19185217e-01\n",
      "   2.58819044e-01 -9.65925813e-01 -6.69130623e-01 -7.43144810e-01\n",
      "   1.04528464e-01  9.94521916e-01  1.00000000e+00  0.00000000e+00\n",
      "   0.00000000e+00  0.00000000e+00  0.00000000e+00  0.00000000e+00\n",
      "   0.00000000e+00  0.00000000e+00  0.00000000e+00  0.00000000e+00\n",
      "   0.00000000e+00  1.00000000e+00  0.00000000e+00  0.00000000e+00\n",
      "   0.00000000e+00]\n",
      " [ 2.54938304e-01  2.96412018e-05  9.10599530e-01 -1.19185217e-01\n",
      "   2.58819044e-01 -9.65925813e-01 -6.69130623e-01 -7.43144810e-01\n",
      "   1.04528464e-01  9.94521916e-01  1.00000000e+00  0.00000000e+00\n",
      "   0.00000000e+00  0.00000000e+00  0.00000000e+00  0.00000000e+00\n",
      "   0.00000000e+00  0.00000000e+00  0.00000000e+00  0.00000000e+00\n",
      "   0.00000000e+00  1.00000000e+00  0.00000000e+00  0.00000000e+00\n",
      "   0.00000000e+00]\n",
      " [ 7.24221349e-01  9.74100112e-05  9.10599530e-01 -1.19185217e-01\n",
      "   2.58819044e-01 -9.65925813e-01 -6.69130623e-01 -7.43144810e-01\n",
      "   1.04528464e-01  9.94521916e-01  1.00000000e+00  0.00000000e+00\n",
      "   0.00000000e+00  0.00000000e+00  0.00000000e+00  0.00000000e+00\n",
      "   0.00000000e+00  0.00000000e+00  0.00000000e+00  0.00000000e+00\n",
      "   0.00000000e+00  1.00000000e+00  0.00000000e+00  0.00000000e+00\n",
      "   0.00000000e+00]\n",
      " [ 7.77129054e-01  5.47128038e-05  9.10599530e-01 -1.19185217e-01\n",
      "   2.58819044e-01 -9.65925813e-01 -6.69130623e-01 -7.43144810e-01\n",
      "   1.04528464e-01  9.94521916e-01  1.00000000e+00  0.00000000e+00\n",
      "   0.00000000e+00  0.00000000e+00  0.00000000e+00  0.00000000e+00\n",
      "   0.00000000e+00  0.00000000e+00  0.00000000e+00  0.00000000e+00\n",
      "   0.00000000e+00  1.00000000e+00  0.00000000e+00  0.00000000e+00\n",
      "   0.00000000e+00]\n",
      " [ 6.08731747e-01  1.51776012e-05  9.10599530e-01 -1.19185217e-01\n",
      "   2.58819044e-01 -9.65925813e-01 -6.69130623e-01 -7.43144810e-01\n",
      "   1.04528464e-01  9.94521916e-01  1.00000000e+00  0.00000000e+00\n",
      "   0.00000000e+00  0.00000000e+00  0.00000000e+00  0.00000000e+00\n",
      "   0.00000000e+00  0.00000000e+00  0.00000000e+00  0.00000000e+00\n",
      "   0.00000000e+00  1.00000000e+00  0.00000000e+00  0.00000000e+00\n",
      "   0.00000000e+00]\n",
      " [ 8.15676987e-01  4.50840025e-06  9.10599530e-01 -1.19185217e-01\n",
      "   2.58819044e-01 -9.65925813e-01 -6.69130623e-01 -7.43144810e-01\n",
      "   1.04528464e-01  9.94521916e-01  1.00000000e+00  0.00000000e+00\n",
      "   0.00000000e+00  0.00000000e+00  0.00000000e+00  0.00000000e+00\n",
      "   0.00000000e+00  0.00000000e+00  0.00000000e+00  0.00000000e+00\n",
      "   0.00000000e+00  1.00000000e+00  0.00000000e+00  0.00000000e+00\n",
      "   0.00000000e+00]\n",
      " [ 2.54176706e-01  1.09344010e-05  9.10599530e-01 -1.19185217e-01\n",
      "   2.58819044e-01 -9.65925813e-01 -6.69130623e-01 -7.43144810e-01\n",
      "   1.04528464e-01  9.94521916e-01  1.00000000e+00  0.00000000e+00\n",
      "   0.00000000e+00  0.00000000e+00  0.00000000e+00  0.00000000e+00\n",
      "   0.00000000e+00  0.00000000e+00  0.00000000e+00  0.00000000e+00\n",
      "   0.00000000e+00  1.00000000e+00  0.00000000e+00  0.00000000e+00\n",
      "   0.00000000e+00]\n",
      " [ 3.60843748e-01  3.08448034e-05  9.10599530e-01 -1.19185217e-01\n",
      "   2.58819044e-01 -9.65925813e-01 -6.69130623e-01 -7.43144810e-01\n",
      "   1.04528464e-01  9.94521916e-01  1.00000000e+00  0.00000000e+00\n",
      "   0.00000000e+00  0.00000000e+00  0.00000000e+00  0.00000000e+00\n",
      "   0.00000000e+00  0.00000000e+00  0.00000000e+00  0.00000000e+00\n",
      "   0.00000000e+00  1.00000000e+00  0.00000000e+00  0.00000000e+00\n",
      "   0.00000000e+00]\n",
      " [ 4.75174099e-01  1.23562815e-04  9.10599530e-01 -1.19185217e-01\n",
      "   2.58819044e-01 -9.65925813e-01 -6.69130623e-01 -7.43144810e-01\n",
      "   1.04528464e-01  9.94521916e-01  1.00000000e+00  0.00000000e+00\n",
      "   0.00000000e+00  0.00000000e+00  0.00000000e+00  0.00000000e+00\n",
      "   0.00000000e+00  0.00000000e+00  0.00000000e+00  0.00000000e+00\n",
      "   0.00000000e+00  1.00000000e+00  0.00000000e+00  0.00000000e+00\n",
      "   0.00000000e+00]\n",
      " [ 8.12812924e-01  8.03148068e-05  9.10599530e-01 -1.19185217e-01\n",
      "   2.58819044e-01 -9.65925813e-01 -6.69130623e-01 -7.43144810e-01\n",
      "   1.04528464e-01  9.94521916e-01  1.00000000e+00  0.00000000e+00\n",
      "   0.00000000e+00  0.00000000e+00  0.00000000e+00  0.00000000e+00\n",
      "   0.00000000e+00  0.00000000e+00  0.00000000e+00  0.00000000e+00\n",
      "   0.00000000e+00  1.00000000e+00  0.00000000e+00  0.00000000e+00\n",
      "   0.00000000e+00]\n",
      " [ 3.14890325e-01  4.14732021e-05  9.10599530e-01 -1.19185217e-01\n",
      "   2.58819044e-01 -9.65925813e-01 -6.69130623e-01 -7.43144810e-01\n",
      "   1.04528464e-01  9.94521916e-01  1.00000000e+00  0.00000000e+00\n",
      "   0.00000000e+00  0.00000000e+00  0.00000000e+00  0.00000000e+00\n",
      "   0.00000000e+00  0.00000000e+00  0.00000000e+00  0.00000000e+00\n",
      "   0.00000000e+00  1.00000000e+00  0.00000000e+00  0.00000000e+00\n",
      "   0.00000000e+00]\n",
      " [ 7.79270172e-01  1.33620015e-05  9.10599530e-01 -1.19185217e-01\n",
      "   2.58819044e-01 -9.65925813e-01 -6.69130623e-01 -7.43144810e-01\n",
      "   1.04528464e-01  9.94521916e-01  1.00000000e+00  0.00000000e+00\n",
      "   0.00000000e+00  0.00000000e+00  0.00000000e+00  0.00000000e+00\n",
      "   0.00000000e+00  0.00000000e+00  0.00000000e+00  0.00000000e+00\n",
      "   0.00000000e+00  1.00000000e+00  0.00000000e+00  0.00000000e+00\n",
      "   0.00000000e+00]\n",
      " [ 8.14562798e-01  2.46840027e-05  9.10599530e-01 -1.19185217e-01\n",
      "   2.58819044e-01 -9.65925813e-01 -6.69130623e-01 -7.43144810e-01\n",
      "   1.04528464e-01  9.94521916e-01  1.00000000e+00  0.00000000e+00\n",
      "   0.00000000e+00  0.00000000e+00  0.00000000e+00  0.00000000e+00\n",
      "   0.00000000e+00  0.00000000e+00  0.00000000e+00  0.00000000e+00\n",
      "   0.00000000e+00  1.00000000e+00  0.00000000e+00  0.00000000e+00\n",
      "   0.00000000e+00]\n",
      " [ 5.54719150e-01  7.40520045e-06  9.10599530e-01 -1.19185217e-01\n",
      "   2.58819044e-01 -9.65925813e-01 -6.69130623e-01 -7.43144810e-01\n",
      "   1.04528464e-01  9.94521916e-01  1.00000000e+00  0.00000000e+00\n",
      "   0.00000000e+00  0.00000000e+00  0.00000000e+00  0.00000000e+00\n",
      "   0.00000000e+00  0.00000000e+00  0.00000000e+00  0.00000000e+00\n",
      "   0.00000000e+00  1.00000000e+00  0.00000000e+00  0.00000000e+00\n",
      "   0.00000000e+00]\n",
      " [ 9.25072372e-01  3.97596013e-05  9.10599530e-01 -1.19185217e-01\n",
      "   2.58819044e-01 -9.65925813e-01 -6.69130623e-01 -7.43144810e-01\n",
      "   1.04528464e-01  9.94521916e-01  1.00000000e+00  0.00000000e+00\n",
      "   0.00000000e+00  0.00000000e+00  0.00000000e+00  0.00000000e+00\n",
      "   0.00000000e+00  0.00000000e+00  0.00000000e+00  0.00000000e+00\n",
      "   0.00000000e+00  1.00000000e+00  0.00000000e+00  0.00000000e+00\n",
      "   0.00000000e+00]\n",
      " [ 2.31275246e-01  1.20747609e-04  9.10599530e-01 -1.19185217e-01\n",
      "   2.58819044e-01 -9.65925813e-01 -6.69130623e-01 -7.43144810e-01\n",
      "   1.04528464e-01  9.94521916e-01  1.00000000e+00  0.00000000e+00\n",
      "   0.00000000e+00  0.00000000e+00  0.00000000e+00  0.00000000e+00\n",
      "   0.00000000e+00  0.00000000e+00  0.00000000e+00  0.00000000e+00\n",
      "   0.00000000e+00  1.00000000e+00  0.00000000e+00  0.00000000e+00\n",
      "   0.00000000e+00]\n",
      " [ 8.43681097e-01  1.16035211e-04  9.10599530e-01 -1.19185217e-01\n",
      "   2.58819044e-01 -9.65925813e-01 -6.69130623e-01 -7.43144810e-01\n",
      "   1.04528464e-01  9.94521916e-01  1.00000000e+00  0.00000000e+00\n",
      "   0.00000000e+00  0.00000000e+00  0.00000000e+00  0.00000000e+00\n",
      "   0.00000000e+00  0.00000000e+00  0.00000000e+00  0.00000000e+00\n",
      "   0.00000000e+00  1.00000000e+00  0.00000000e+00  0.00000000e+00\n",
      "   0.00000000e+00]\n",
      " [ 2.60505706e-01  2.84763635e-04  9.10599530e-01 -1.19185217e-01\n",
      "   2.58819044e-01 -9.65925813e-01 -6.69130623e-01 -7.43144810e-01\n",
      "   1.04528464e-01  9.94521916e-01  1.00000000e+00  0.00000000e+00\n",
      "   0.00000000e+00  0.00000000e+00  0.00000000e+00  0.00000000e+00\n",
      "   0.00000000e+00  0.00000000e+00  0.00000000e+00  0.00000000e+00\n",
      "   0.00000000e+00  1.00000000e+00  0.00000000e+00  0.00000000e+00\n",
      "   0.00000000e+00]]\n"
     ]
    }
   ],
   "source": [
    "print(X[0])"
   ]
  },
  {
   "cell_type": "code",
   "execution_count": 19,
   "id": "76c1acd9-68dc-45ea-82a7-cec489f4e409",
   "metadata": {},
   "outputs": [],
   "source": [
    "from sklearn.model_selection import train_test_split\n",
    "X_train, X_val = train_test_split(X, test_size=0.2, random_state=42)"
   ]
  },
  {
   "cell_type": "code",
   "execution_count": 20,
   "id": "3f1f7461-20ee-4cf4-a17a-836355a163e5",
   "metadata": {},
   "outputs": [
    {
     "name": "stdout",
     "output_type": "stream",
     "text": [
      "WARNING:tensorflow:Layer lstm_4 will not use cuDNN kernels since it doesn't meet the criteria. It will use a generic GPU kernel as fallback when running on GPU.\n",
      "WARNING:tensorflow:Layer lstm_5 will not use cuDNN kernels since it doesn't meet the criteria. It will use a generic GPU kernel as fallback when running on GPU.\n"
     ]
    }
   ],
   "source": [
    "import tensorflow as tf\n",
    "from tensorflow.keras.models import Sequential\n",
    "from tensorflow.keras.layers import LSTM, Dense, RepeatVector, TimeDistributed\n",
    "\n",
    "# X is input data\n",
    "input_shape = X.shape[1:] # get shape of input data\n",
    "\n",
    "model = Sequential([\n",
    "    LSTM(100, activation='relu', input_shape=input_shape, return_sequences=True),\n",
    "    LSTM(100, activation='relu', return_sequences=True),\n",
    "    TimeDistributed(Dense(input_shape[-1])) # reconstruct input\n",
    "])\n",
    "\n",
    "model.compile(optimizer='adam', loss='mse')"
   ]
  },
  {
   "cell_type": "code",
   "execution_count": 22,
   "id": "7e2d4a85-09d7-4270-853f-2eb9e95e7e11",
   "metadata": {},
   "outputs": [
    {
     "name": "stdout",
     "output_type": "stream",
     "text": [
      "Epoch 1/6\n",
      "502/502 [==============================] - 51s 102ms/step - loss: 7.2568e-05 - val_loss: 6.7154e-05\n",
      "Epoch 2/6\n",
      "502/502 [==============================] - 51s 102ms/step - loss: 9.3204e-05 - val_loss: 4.2083e-05\n",
      "Epoch 3/6\n",
      "502/502 [==============================] - 51s 102ms/step - loss: 7.5387e-05 - val_loss: 1.0200e-04\n",
      "Epoch 4/6\n",
      "502/502 [==============================] - 51s 101ms/step - loss: 5.5113e-05 - val_loss: 6.2361e-05\n",
      "Epoch 5/6\n",
      "502/502 [==============================] - 51s 102ms/step - loss: 6.9440e-05 - val_loss: 3.1505e-05\n",
      "Epoch 6/6\n",
      "502/502 [==============================] - 51s 102ms/step - loss: 4.7086e-05 - val_loss: 5.1085e-05\n"
     ]
    }
   ],
   "source": [
    "history = model.fit(X_train, X_train, epochs=6, batch_size=32, validation_data=(X_val, X_val))"
   ]
  },
  {
   "cell_type": "code",
   "execution_count": 23,
   "id": "b6bf846f-2697-4cb4-8cc5-273ded0b1b20",
   "metadata": {},
   "outputs": [
    {
     "name": "stdout",
     "output_type": "stream",
     "text": [
      "126/126 [==============================] - 2s 19ms/step - loss: 5.1085e-05\n",
      "Validation Loss: 5.108536424813792e-05\n"
     ]
    }
   ],
   "source": [
    "val_loss = model.evaluate(X_val, X_val)\n",
    "print(f\"Validation Loss: {val_loss}\")"
   ]
  },
  {
   "cell_type": "code",
   "execution_count": 24,
   "id": "80f8aabf-c3cc-404b-85db-a7d02ae8bbe2",
   "metadata": {},
   "outputs": [
    {
     "name": "stdout",
     "output_type": "stream",
     "text": [
      "628/628 [==============================] - 12s 18ms/step\n"
     ]
    }
   ],
   "source": [
    "# predict the reconstruction of the input for each sequence\n",
    "reconstructions = model.predict(X)\n",
    "\n",
    "# calculate the reconstruction error for each sequence\n",
    "reconstruction_error = np.mean(np.square(X - reconstructions), axis=(1, 2))\n",
    "\n",
    "# set a threshold for anomaly detection\n",
    "threshold = np.percentile(reconstruction_error, 99.9) # we're looking for exceptions\n",
    "\n",
    "# identify anomalies\n",
    "anomalies = reconstruction_error > threshold"
   ]
  },
  {
   "cell_type": "code",
   "execution_count": 25,
   "id": "e6520a7c-a79d-4dca-ac89-df6f7efa33cd",
   "metadata": {},
   "outputs": [],
   "source": [
    "anomalous_remote_hosts = [remote_hosts_ordered[i] for i, is_anomaly in enumerate(anomalies) if is_anomaly]"
   ]
  },
  {
   "cell_type": "code",
   "execution_count": 26,
   "id": "9899ceca-eb6c-441b-9136-225262d68aea",
   "metadata": {},
   "outputs": [
    {
     "name": "stdout",
     "output_type": "stream",
     "text": [
      "Anomalous remote hosts: ['139.47.117.125', '159.65.255.51', '185.36.81.42', '188.126.89.79', '2.11.2.62', '34.118.178.152', '34.32.212.246', '34.89.222.112', '35.145.4.24', '35.199.6.114', '50.66.182.197', '62.122.184.194', '64.124.8.34', '64.124.8.40', '64.43.50.40', '66.45.237.154', '77.226.251.249', '79.154.21.148', '81.165.56.148', '82.147.85.78', '91.92.245.67']\n"
     ]
    }
   ],
   "source": [
    "print(\"Anomalous remote hosts:\", anomalous_remote_hosts)"
   ]
  },
  {
   "cell_type": "code",
   "execution_count": 27,
   "id": "d64b8d67-1600-42c1-b28d-55887b8b815d",
   "metadata": {},
   "outputs": [],
   "source": [
    "remote_host_errors = {remote_host: error for remote_host, error in zip(remote_hosts_ordered, reconstruction_error)}"
   ]
  },
  {
   "cell_type": "code",
   "execution_count": 28,
   "id": "8b18d83f-9cb9-4988-913d-6f0046852a61",
   "metadata": {},
   "outputs": [
    {
     "data": {
      "image/png": "[encoded data removed]",
      "text/plain": [
       "<Figure size 1000x600 with 1 Axes>"
      ]
     },
     "metadata": {},
     "output_type": "display_data"
    }
   ],
   "source": [
    "import matplotlib.pyplot as plt\n",
    "\n",
    "# extract remote_host identifiers and their corresponding errors\n",
    "remote_host_ids = list(remote_host_errors.keys())\n",
    "errors = list(remote_host_errors.values())\n",
    "\n",
    "# create a bar plot of the reconstruction errors\n",
    "plt.figure(figsize=(10, 6))\n",
    "plt.bar(remote_host_ids, errors)\n",
    "plt.xlabel('Remote Host')\n",
    "plt.ylabel('Reconstruction Error')\n",
    "plt.title('Reconstruction Error by Remote Host')\n",
    "plt.xticks(rotation=90) # rotate x-axis labels for better readability\n",
    "plt.show()"
   ]
  },
  {
   "cell_type": "code",
   "execution_count": null,
   "id": "4bb39512-d162-4d2f-a6c7-7fb9439417a1",
   "metadata": {},
   "outputs": [],
   "source": []
  }
 ],
 "metadata": {
  "kernelspec": {
   "display_name": "Python 3 (ipykernel)",
   "language": "python",
   "name": "python3"
  },
  "language_info": {
   "codemirror_mode": {
    "name": "ipython",
    "version": 3
   },
   "file_extension": ".py",
   "mimetype": "text/x-python",
   "name": "python",
   "nbconvert_exporter": "python",
   "pygments_lexer": "ipython3",
   "version": "3.12.3"
  }
 },
 "nbformat": 4,
 "nbformat_minor": 5
}
