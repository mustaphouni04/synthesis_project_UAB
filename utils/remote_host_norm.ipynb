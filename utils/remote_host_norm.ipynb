{
 "cells": [
  {
   "cell_type": "code",
   "execution_count": 5,
   "id": "0a60fb5b-f0b6-47ea-90b1-a61e25a1ab16",
   "metadata": {},
   "outputs": [
    {
     "data": {
      "text/plain": [
       "0     47.76.35.19\n",
       "1     47.76.35.19\n",
       "2    40.77.167.53\n",
       "3     47.76.35.19\n",
       "4     47.76.35.19\n",
       "Name: remote_host, dtype: object"
      ]
     },
     "execution_count": 5,
     "metadata": {},
     "output_type": "execute_result"
    }
   ],
   "source": [
    "import pandas as pd\n",
    "# load data\n",
    "df = pd.read_csv(\"../combined_logs.csv\")\n",
    "\n",
    "df['remote_host'].head()"
   ]
  },
  {
   "cell_type": "code",
   "execution_count": 9,
   "id": "68e04014-b6c8-4957-a020-1ed65ca76824",
   "metadata": {},
   "outputs": [
    {
     "name": "stdout",
     "output_type": "stream",
     "text": [
      "      octet1    octet2    octet3    octet4\n",
      "0   0.184314  0.298039  0.137255  0.074510\n",
      "1   0.184314  0.298039  0.137255  0.074510\n",
      "2   0.156863  0.301961  0.654902  0.207843\n",
      "3   0.184314  0.298039  0.137255  0.074510\n",
      "4   0.184314  0.298039  0.137255  0.074510\n",
      "5   0.184314  0.298039  0.137255  0.074510\n",
      "6   0.184314  0.298039  0.137255  0.074510\n",
      "7   0.184314  0.298039  0.137255  0.074510\n",
      "8   0.184314  0.298039  0.137255  0.074510\n",
      "9   0.184314  0.298039  0.137255  0.074510\n",
      "10  0.184314  0.298039  0.137255  0.074510\n",
      "11  0.184314  0.298039  0.137255  0.074510\n",
      "12  0.184314  0.298039  0.137255  0.074510\n",
      "13  0.184314  0.298039  0.137255  0.074510\n",
      "14  0.184314  0.298039  0.137255  0.074510\n",
      "15  0.184314  0.298039  0.137255  0.074510\n",
      "16  0.184314  0.298039  0.137255  0.074510\n",
      "17  0.184314  0.298039  0.137255  0.074510\n",
      "18  0.184314  0.298039  0.137255  0.074510\n",
      "19  0.349020  0.968627  0.682353  0.384314\n",
      "20  0.184314  0.298039  0.137255  0.074510\n",
      "21  0.184314  0.298039  0.137255  0.074510\n",
      "22  0.184314  0.298039  0.137255  0.074510\n",
      "23  0.764706  0.321569  0.470588  0.882353\n",
      "24  0.184314  0.298039  0.137255  0.074510\n"
     ]
    }
   ],
   "source": [
    "# split the IP address into four separate columns\n",
    "df[['octet1', 'octet2', 'octet3', 'octet4']] = df['remote_host'].str.split('.', expand=True)\n",
    "df[['octet1', 'octet2', 'octet3', 'octet4']] = df[['octet1', 'octet2', 'octet3', 'octet4']].apply(pd.to_numeric)\n",
    "df[['octet1', 'octet2', 'octet3', 'octet4']] /= 255\n",
    "\n",
    "print(df[['octet1', 'octet2', 'octet3', 'octet4']].head(25))"
   ]
  },
  {
   "cell_type": "code",
   "execution_count": 16,
   "id": "6274ed01-c414-467f-b170-dab92c8bb332",
   "metadata": {},
   "outputs": [
    {
     "name": "stdout",
     "output_type": "stream",
     "text": [
      "             server_name remote_logname remote_user  \\\n",
      "0      sitgesanytime.com              -           -   \n",
      "1  www.sitgesanytime.com              -           -   \n",
      "2  www.sitgesanytime.com              -           -   \n",
      "3      sitgesanytime.com              -           -   \n",
      "4  www.sitgesanytime.com              -           -   \n",
      "\n",
      "                    timestamp request_method  \\\n",
      "0  22/Jan/2024:00:00:00 +0100           HEAD   \n",
      "1  22/Jan/2024:00:00:01 +0100           HEAD   \n",
      "2  22/Jan/2024:00:00:06 +0100            GET   \n",
      "3  22/Jan/2024:00:00:06 +0100           HEAD   \n",
      "4  22/Jan/2024:00:00:07 +0100           HEAD   \n",
      "\n",
      "                                       requested_url  status_code  bytes_sent  \\\n",
      "0  /fr/pag492/explora-platges-i-ports-2/id12/les-...          301        4840   \n",
      "1  /fr/pag492/explora-platges-i-ports-2/id12/les-...          200        5223   \n",
      "2  /ca/noticias/84/sitges-obt%C3%A9-el-certificat...          404        2509   \n",
      "3  /fr/pag492/explora-platges-i-ports-2/id12/les-...          301        4840   \n",
      "4  /fr/pag492/explora-platges-i-ports-2/id12/les-...          200        5260   \n",
      "\n",
      "  referer                                         user_agent    octet1  \\\n",
      "0       -  Mozilla/5.0 (Windows NT 10.0; Win64; x64) Appl...  0.184314   \n",
      "1       -  Mozilla/5.0 (Windows NT 10.0; Win64; x64) Appl...  0.184314   \n",
      "2       -  Mozilla/5.0 AppleWebKit/537.36 (KHTML, like Ge...  0.156863   \n",
      "3       -  Mozilla/5.0 (Windows NT 6.1; Win64; x64) Apple...  0.184314   \n",
      "4       -  Mozilla/5.0 (Windows NT 6.1; Win64; x64) Apple...  0.184314   \n",
      "\n",
      "     octet2    octet3    octet4  \n",
      "0  0.298039  0.137255  0.074510  \n",
      "1  0.298039  0.137255  0.074510  \n",
      "2  0.301961  0.654902  0.207843  \n",
      "3  0.298039  0.137255  0.074510  \n",
      "4  0.298039  0.137255  0.074510  \n"
     ]
    }
   ],
   "source": [
    "print(df.head())"
   ]
  },
  {
   "cell_type": "code",
   "execution_count": null,
   "id": "66796f9b-42c9-4989-95b4-24012d7a7d4a",
   "metadata": {},
   "outputs": [],
   "source": []
  }
 ],
 "metadata": {
  "kernelspec": {
   "display_name": "Python 3.9 (tf4)",
   "language": "python",
   "name": "tensorflowv4"
  },
  "language_info": {
   "codemirror_mode": {
    "name": "ipython",
    "version": 3
   },
   "file_extension": ".py",
   "mimetype": "text/x-python",
   "name": "python",
   "nbconvert_exporter": "python",
   "pygments_lexer": "ipython3",
   "version": "3.9.18"
  }
 },
 "nbformat": 4,
 "nbformat_minor": 5
}
