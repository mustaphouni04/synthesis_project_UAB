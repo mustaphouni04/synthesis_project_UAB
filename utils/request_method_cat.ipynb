{
 "cells": [
  {
   "cell_type": "code",
   "execution_count": 4,
   "id": "73a96d74-0bc3-42f9-a98c-f6d672ec8412",
   "metadata": {},
   "outputs": [
    {
     "data": {
      "text/plain": [
       "count     1076922\n",
       "unique          5\n",
       "top           GET\n",
       "freq      1024828\n",
       "Name: request_method, dtype: object"
      ]
     },
     "execution_count": 4,
     "metadata": {},
     "output_type": "execute_result"
    }
   ],
   "source": [
    "import pandas as pd\n",
    "# load data\n",
    "df = pd.read_csv(\"../combined_logs.csv\")\n",
    "\n",
    "df['request_method'].head(50)\n",
    "\n",
    "df['request_method'].describe()"
   ]
  },
  {
   "cell_type": "markdown",
   "id": "0e60c86b-59a7-4102-bf33-e4ec2ec36cf0",
   "metadata": {},
   "source": [
    "#### Five unique classes --> One-hot encode the request_method\n"
   ]
  },
  {
   "cell_type": "code",
   "execution_count": 6,
   "id": "4dd3a5cd-d83d-4864-8db7-9662838b1b15",
   "metadata": {},
   "outputs": [
    {
     "name": "stdout",
     "output_type": "stream",
     "text": [
      "HEAD\n",
      "GET\n",
      "POST\n",
      "CONNECT\n",
      "OPTIONS\n"
     ]
    }
   ],
   "source": [
    "unique_values = df['request_method'].unique()\n",
    "\n",
    "for value in unique_values:\n",
    "    print(value)"
   ]
  },
  {
   "cell_type": "code",
   "execution_count": 7,
   "id": "b7e39873-a906-403f-88a4-f5f0a6a4ce45",
   "metadata": {},
   "outputs": [
    {
     "name": "stdout",
     "output_type": "stream",
     "text": [
      "             server_name   remote_host remote_logname remote_user  \\\n",
      "0      sitgesanytime.com   47.76.35.19              -           -   \n",
      "1  www.sitgesanytime.com   47.76.35.19              -           -   \n",
      "2  www.sitgesanytime.com  40.77.167.53              -           -   \n",
      "3      sitgesanytime.com   47.76.35.19              -           -   \n",
      "4  www.sitgesanytime.com   47.76.35.19              -           -   \n",
      "\n",
      "                    timestamp  \\\n",
      "0  22/Jan/2024:00:00:00 +0100   \n",
      "1  22/Jan/2024:00:00:01 +0100   \n",
      "2  22/Jan/2024:00:00:06 +0100   \n",
      "3  22/Jan/2024:00:00:06 +0100   \n",
      "4  22/Jan/2024:00:00:07 +0100   \n",
      "\n",
      "                                       requested_url  status_code  bytes_sent  \\\n",
      "0  /fr/pag492/explora-platges-i-ports-2/id12/les-...          301        4840   \n",
      "1  /fr/pag492/explora-platges-i-ports-2/id12/les-...          200        5223   \n",
      "2  /ca/noticias/84/sitges-obt%C3%A9-el-certificat...          404        2509   \n",
      "3  /fr/pag492/explora-platges-i-ports-2/id12/les-...          301        4840   \n",
      "4  /fr/pag492/explora-platges-i-ports-2/id12/les-...          200        5260   \n",
      "\n",
      "  referer                                         user_agent  \\\n",
      "0       -  Mozilla/5.0 (Windows NT 10.0; Win64; x64) Appl...   \n",
      "1       -  Mozilla/5.0 (Windows NT 10.0; Win64; x64) Appl...   \n",
      "2       -  Mozilla/5.0 AppleWebKit/537.36 (KHTML, like Ge...   \n",
      "3       -  Mozilla/5.0 (Windows NT 6.1; Win64; x64) Apple...   \n",
      "4       -  Mozilla/5.0 (Windows NT 6.1; Win64; x64) Apple...   \n",
      "\n",
      "   request_method_CONNECT  request_method_GET  request_method_HEAD  \\\n",
      "0                   False               False                 True   \n",
      "1                   False               False                 True   \n",
      "2                   False                True                False   \n",
      "3                   False               False                 True   \n",
      "4                   False               False                 True   \n",
      "\n",
      "   request_method_OPTIONS  request_method_POST  \n",
      "0                   False                False  \n",
      "1                   False                False  \n",
      "2                   False                False  \n",
      "3                   False                False  \n",
      "4                   False                False  \n"
     ]
    }
   ],
   "source": [
    "one_hot_encoded = pd.get_dummies(df['request_method'], prefix='request_method')\n",
    "df_encoded = pd.concat([df, one_hot_encoded], axis=1)\n",
    "df_encoded.drop('request_method', axis=1, inplace=True)\n",
    "\n",
    "print(df_encoded.head())"
   ]
  },
  {
   "cell_type": "code",
   "execution_count": 11,
   "id": "ffea8b52-ade4-40df-8311-b19bcf367d2f",
   "metadata": {},
   "outputs": [
    {
     "name": "stdout",
     "output_type": "stream",
     "text": [
      "   request_method_CONNECT  request_method_GET  request_method_HEAD  \\\n",
      "0                   False               False                 True   \n",
      "1                   False               False                 True   \n",
      "2                   False                True                False   \n",
      "3                   False               False                 True   \n",
      "4                   False               False                 True   \n",
      "5                   False                True                False   \n",
      "6                   False                True                False   \n",
      "7                   False               False                 True   \n",
      "8                   False               False                 True   \n",
      "9                   False                True                False   \n",
      "\n",
      "   request_method_OPTIONS  request_method_POST  \n",
      "0                   False                False  \n",
      "1                   False                False  \n",
      "2                   False                False  \n",
      "3                   False                False  \n",
      "4                   False                False  \n",
      "5                   False                False  \n",
      "6                   False                False  \n",
      "7                   False                False  \n",
      "8                   False                False  \n",
      "9                   False                False  \n"
     ]
    }
   ],
   "source": [
    "print(df_encoded[['request_method_CONNECT', 'request_method_GET', 'request_method_HEAD', 'request_method_OPTIONS', 'request_method_POST']].head(10))"
   ]
  }
 ],
 "metadata": {
  "kernelspec": {
   "display_name": "Python 3.9 (tf4)",
   "language": "python",
   "name": "tensorflowv4"
  },
  "language_info": {
   "codemirror_mode": {
    "name": "ipython",
    "version": 3
   },
   "file_extension": ".py",
   "mimetype": "text/x-python",
   "name": "python",
   "nbconvert_exporter": "python",
   "pygments_lexer": "ipython3",
   "version": "3.9.18"
  }
 },
 "nbformat": 4,
 "nbformat_minor": 5
}
