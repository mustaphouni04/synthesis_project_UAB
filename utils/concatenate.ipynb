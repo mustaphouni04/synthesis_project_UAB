{
 "cells": [
  {
   "cell_type": "code",
   "execution_count": null,
   "id": "d7ffa187-32eb-45db-8d33-d7c270f5effa",
   "metadata": {},
   "outputs": [],
   "source": [
    "import preprocessing2\n",
    "from preprocessing2 import final_preprocessing\n",
    "import pandas as pd\n",
    "import importlib\n",
    "importlib.reload(preprocessing2)"
   ]
  },
  {
   "cell_type": "code",
   "execution_count": 2,
   "id": "fca4258a-2f4e-4b7e-8483-1522c07609c6",
   "metadata": {},
   "outputs": [],
   "source": [
    "import pandas as pd\n",
    "# load data\n",
    "df = pd.read_csv(\"../../combined_logs.csv\")"
   ]
  },
  {
   "cell_type": "code",
   "execution_count": 9,
   "id": "3d974907-6413-428e-8850-9cddaf81eaf0",
   "metadata": {},
   "outputs": [
    {
     "name": "stdout",
     "output_type": "stream",
     "text": [
      "Dropping all unnecessary features...\n",
      "Done.\n",
      "Preprocessing timestamp...\n",
      "Done.\n",
      "Preprocessing status_code...\n",
      "Done.\n",
      "Preprocessing request_method...\n",
      "Done.\n",
      "Preprocessing bytes_sent...\n",
      "Done.\n",
      "Preprocessing referer...\n",
      "Done.\n",
      "Preprocessing requested_url...\n",
      "Done.\n",
      "Preprocessing user_agent...\n",
      "Done.\n"
     ]
    }
   ],
   "source": [
    "df = final_preprocessing(df)"
   ]
  },
  {
   "cell_type": "code",
   "execution_count": 10,
   "id": "2a85d4be-d502-4ceb-88b9-746419696ac8",
   "metadata": {},
   "outputs": [
    {
     "name": "stdout",
     "output_type": "stream",
     "text": [
      "    remote_host                                      requested_url  \\\n",
      "0   47.76.35.19  [[-3.6554675, 12.242755, -1.3347734, 2.0901334...   \n",
      "1   47.76.35.19  [[-3.6554675, 12.242755, -1.3347734, 2.0901334...   \n",
      "2  40.77.167.53  [[5.265426, 2.788107, 2.004403, 1.9613378, 3.2...   \n",
      "3   47.76.35.19  [[-3.6554675, 12.242755, -1.3347734, 2.0901334...   \n",
      "4   47.76.35.19  [[-3.6554675, 12.242755, -1.3347734, 2.0901334...   \n",
      "\n",
      "   bytes_sent referer                                         user_agent  \\\n",
      "0    0.000099      []  [[6.861057, 0.52731943, -4.339798, 2.8855584, ...   \n",
      "1    0.000107      []  [[6.861057, 0.52731943, -4.339798, 2.8855584, ...   \n",
      "2    0.000051      []  [[6.861057, 0.52731943, -4.339798, 2.8855584, ...   \n",
      "3    0.000099      []  [[6.861057, 0.52731943, -4.339798, 2.8855584, ...   \n",
      "4    0.000107      []  [[6.861057, 0.52731943, -4.339798, 2.8855584, ...   \n",
      "\n",
      "   hour_sin  hour_cos  minute_sin  minute_cos  second_sin  ...  \\\n",
      "0       0.0       1.0         0.0         1.0    0.000000  ...   \n",
      "1       0.0       1.0         0.0         1.0    0.104528  ...   \n",
      "2       0.0       1.0         0.0         1.0    0.587785  ...   \n",
      "3       0.0       1.0         0.0         1.0    0.587785  ...   \n",
      "4       0.0       1.0         0.0         1.0    0.669131  ...   \n",
      "\n",
      "   status_code_400  status_code_401  status_code_403  status_code_404  \\\n",
      "0            False            False            False            False   \n",
      "1            False            False            False            False   \n",
      "2            False            False            False             True   \n",
      "3            False            False            False            False   \n",
      "4            False            False            False            False   \n",
      "\n",
      "   status_code_504  request_method_CONNECT  request_method_GET  \\\n",
      "0            False                   False               False   \n",
      "1            False                   False               False   \n",
      "2            False                   False                True   \n",
      "3            False                   False               False   \n",
      "4            False                   False               False   \n",
      "\n",
      "   request_method_HEAD  request_method_OPTIONS  request_method_POST  \n",
      "0                 True                   False                False  \n",
      "1                 True                   False                False  \n",
      "2                False                   False                False  \n",
      "3                 True                   False                False  \n",
      "4                 True                   False                False  \n",
      "\n",
      "[5 rows x 26 columns]\n"
     ]
    }
   ],
   "source": [
    "print(df.head())"
   ]
  },
  {
   "cell_type": "code",
   "execution_count": 15,
   "id": "3d81d6af-7136-492a-8600-df0e752d50e2",
   "metadata": {},
   "outputs": [],
   "source": [
    "zero_vector = [0.0] * 30\n",
    "df['referer'] = df['referer'].apply(lambda x: zero_vector if x == [] else x)\n",
    "df['user_agent'] = df['user_agent'].apply(lambda x: zero_vector if x == [] else x)\n",
    "df['requested_url'] = df['requested_url'].apply(lambda x: zero_vector if x == [] else x)"
   ]
  },
  {
   "cell_type": "code",
   "execution_count": 16,
   "id": "c764b793-5bdb-4e1a-96ad-f55f5437cab6",
   "metadata": {},
   "outputs": [
    {
     "name": "stdout",
     "output_type": "stream",
     "text": [
      "    remote_host                                      requested_url  \\\n",
      "0   47.76.35.19  [[-3.6554675, 12.242755, -1.3347734, 2.0901334...   \n",
      "1   47.76.35.19  [[-3.6554675, 12.242755, -1.3347734, 2.0901334...   \n",
      "2  40.77.167.53  [[5.265426, 2.788107, 2.004403, 1.9613378, 3.2...   \n",
      "3   47.76.35.19  [[-3.6554675, 12.242755, -1.3347734, 2.0901334...   \n",
      "4   47.76.35.19  [[-3.6554675, 12.242755, -1.3347734, 2.0901334...   \n",
      "\n",
      "   bytes_sent                                            referer  \\\n",
      "0    0.000099  [0.0, 0.0, 0.0, 0.0, 0.0, 0.0, 0.0, 0.0, 0.0, ...   \n",
      "1    0.000107  [0.0, 0.0, 0.0, 0.0, 0.0, 0.0, 0.0, 0.0, 0.0, ...   \n",
      "2    0.000051  [0.0, 0.0, 0.0, 0.0, 0.0, 0.0, 0.0, 0.0, 0.0, ...   \n",
      "3    0.000099  [0.0, 0.0, 0.0, 0.0, 0.0, 0.0, 0.0, 0.0, 0.0, ...   \n",
      "4    0.000107  [0.0, 0.0, 0.0, 0.0, 0.0, 0.0, 0.0, 0.0, 0.0, ...   \n",
      "\n",
      "                                          user_agent  hour_sin  hour_cos  \\\n",
      "0  [[6.861057, 0.52731943, -4.339798, 2.8855584, ...       0.0       1.0   \n",
      "1  [[6.861057, 0.52731943, -4.339798, 2.8855584, ...       0.0       1.0   \n",
      "2  [[6.861057, 0.52731943, -4.339798, 2.8855584, ...       0.0       1.0   \n",
      "3  [[6.861057, 0.52731943, -4.339798, 2.8855584, ...       0.0       1.0   \n",
      "4  [[6.861057, 0.52731943, -4.339798, 2.8855584, ...       0.0       1.0   \n",
      "\n",
      "   minute_sin  minute_cos  second_sin  ...  status_code_400  status_code_401  \\\n",
      "0         0.0         1.0    0.000000  ...            False            False   \n",
      "1         0.0         1.0    0.104528  ...            False            False   \n",
      "2         0.0         1.0    0.587785  ...            False            False   \n",
      "3         0.0         1.0    0.587785  ...            False            False   \n",
      "4         0.0         1.0    0.669131  ...            False            False   \n",
      "\n",
      "   status_code_403  status_code_404  status_code_504  request_method_CONNECT  \\\n",
      "0            False            False            False                   False   \n",
      "1            False            False            False                   False   \n",
      "2            False             True            False                   False   \n",
      "3            False            False            False                   False   \n",
      "4            False            False            False                   False   \n",
      "\n",
      "   request_method_GET  request_method_HEAD  request_method_OPTIONS  \\\n",
      "0               False                 True                   False   \n",
      "1               False                 True                   False   \n",
      "2                True                False                   False   \n",
      "3               False                 True                   False   \n",
      "4               False                 True                   False   \n",
      "\n",
      "   request_method_POST  \n",
      "0                False  \n",
      "1                False  \n",
      "2                False  \n",
      "3                False  \n",
      "4                False  \n",
      "\n",
      "[5 rows x 26 columns]\n"
     ]
    }
   ],
   "source": [
    "print(df.head())"
   ]
  },
  {
   "cell_type": "code",
   "execution_count": 19,
   "id": "7de11a3c-5655-4a28-b310-974345d7ae39",
   "metadata": {},
   "outputs": [],
   "source": [
    "def convert_to_vector(embedding):\n",
    "    # Ensure embedding is treated as a NumPy array for consistent handling\n",
    "    embedding_array = np.asarray(embedding)\n",
    "    \n",
    "    if embedding_array.shape == (30,) and np.all(embedding_array == 0.0):\n",
    "        # Return the zero vector itself if it matches the condition\n",
    "        return embedding_array.tolist()\n",
    "    elif embedding_array.shape!= (30,) or not np.all(embedding_array == 0.0):\n",
    "        # Proceed with original logic if the embedding is not a zero vector\n",
    "        # Assuming embedding is a list of lists where each sublist is a 30-dimensional vector\n",
    "        mean_vector = np.mean(embedding_array, axis=0)\n",
    "        return mean_vector.tolist()\n",
    "    else:\n",
    "        # Handle other cases where the input does not match expected formats\n",
    "        return None"
   ]
  },
  {
   "cell_type": "code",
   "execution_count": 20,
   "id": "77da5672-4875-4674-8bbc-bfc2af2a3cb3",
   "metadata": {},
   "outputs": [],
   "source": [
    "df['referer'] = df['referer'].apply(convert_to_vector)\n",
    "df['user_agent'] = df['user_agent'].apply(convert_to_vector)\n",
    "df['requested_url'] = df['requested_url'].apply(convert_to_vector)"
   ]
  },
  {
   "cell_type": "code",
   "execution_count": 21,
   "id": "0c5e7721-f0f2-4c07-aae8-0eb6b3f2481a",
   "metadata": {},
   "outputs": [
    {
     "name": "stdout",
     "output_type": "stream",
     "text": [
      "    remote_host                                      requested_url  \\\n",
      "0   47.76.35.19  [3.29366135597229, -1.362528681755066, -2.6752...   \n",
      "1   47.76.35.19  [3.29366135597229, -1.362528681755066, -2.6752...   \n",
      "2  40.77.167.53  [3.315171480178833, -1.5396409034729004, 0.403...   \n",
      "3   47.76.35.19  [3.29366135597229, -1.362528681755066, -2.6752...   \n",
      "4   47.76.35.19  [3.29366135597229, -1.362528681755066, -2.6752...   \n",
      "\n",
      "   bytes_sent                                            referer  \\\n",
      "0    0.000099  [0.0, 0.0, 0.0, 0.0, 0.0, 0.0, 0.0, 0.0, 0.0, ...   \n",
      "1    0.000107  [0.0, 0.0, 0.0, 0.0, 0.0, 0.0, 0.0, 0.0, 0.0, ...   \n",
      "2    0.000051  [0.0, 0.0, 0.0, 0.0, 0.0, 0.0, 0.0, 0.0, 0.0, ...   \n",
      "3    0.000099  [0.0, 0.0, 0.0, 0.0, 0.0, 0.0, 0.0, 0.0, 0.0, ...   \n",
      "4    0.000107  [0.0, 0.0, 0.0, 0.0, 0.0, 0.0, 0.0, 0.0, 0.0, ...   \n",
      "\n",
      "                                          user_agent  hour_sin  hour_cos  \\\n",
      "0  [2.4427335262298584, 4.9501633644104, 1.117175...       0.0       1.0   \n",
      "1  [2.4427335262298584, 4.9501633644104, 1.117175...       0.0       1.0   \n",
      "2  [1.2075073719024658, 1.699358582496643, -1.947...       0.0       1.0   \n",
      "3  [2.329819679260254, 3.59283709526062, 1.620039...       0.0       1.0   \n",
      "4  [2.329819679260254, 3.59283709526062, 1.620039...       0.0       1.0   \n",
      "\n",
      "   minute_sin  minute_cos  second_sin  ...  status_code_400  status_code_401  \\\n",
      "0         0.0         1.0    0.000000  ...            False            False   \n",
      "1         0.0         1.0    0.104528  ...            False            False   \n",
      "2         0.0         1.0    0.587785  ...            False            False   \n",
      "3         0.0         1.0    0.587785  ...            False            False   \n",
      "4         0.0         1.0    0.669131  ...            False            False   \n",
      "\n",
      "   status_code_403  status_code_404  status_code_504  request_method_CONNECT  \\\n",
      "0            False            False            False                   False   \n",
      "1            False            False            False                   False   \n",
      "2            False             True            False                   False   \n",
      "3            False            False            False                   False   \n",
      "4            False            False            False                   False   \n",
      "\n",
      "   request_method_GET  request_method_HEAD  request_method_OPTIONS  \\\n",
      "0               False                 True                   False   \n",
      "1               False                 True                   False   \n",
      "2                True                False                   False   \n",
      "3               False                 True                   False   \n",
      "4               False                 True                   False   \n",
      "\n",
      "   request_method_POST  \n",
      "0                False  \n",
      "1                False  \n",
      "2                False  \n",
      "3                False  \n",
      "4                False  \n",
      "\n",
      "[5 rows x 26 columns]\n"
     ]
    }
   ],
   "source": [
    "print(df.head())"
   ]
  },
  {
   "cell_type": "code",
   "execution_count": 24,
   "id": "06917eac-33ff-45c4-adf3-2f8ee3b72135",
   "metadata": {},
   "outputs": [
    {
     "name": "stdout",
     "output_type": "stream",
     "text": [
      "0     [0.0, 0.0, 0.0, 0.0, 0.0, 0.0, 0.0, 0.0, 0.0, ...\n",
      "1     [0.0, 0.0, 0.0, 0.0, 0.0, 0.0, 0.0, 0.0, 0.0, ...\n",
      "2     [0.0, 0.0, 0.0, 0.0, 0.0, 0.0, 0.0, 0.0, 0.0, ...\n",
      "3     [0.0, 0.0, 0.0, 0.0, 0.0, 0.0, 0.0, 0.0, 0.0, ...\n",
      "4     [0.0, 0.0, 0.0, 0.0, 0.0, 0.0, 0.0, 0.0, 0.0, ...\n",
      "5     [0.0, 0.0, 0.0, 0.0, 0.0, 0.0, 0.0, 0.0, 0.0, ...\n",
      "6     [0.0, 0.0, 0.0, 0.0, 0.0, 0.0, 0.0, 0.0, 0.0, ...\n",
      "7     [0.0, 0.0, 0.0, 0.0, 0.0, 0.0, 0.0, 0.0, 0.0, ...\n",
      "8     [0.0, 0.0, 0.0, 0.0, 0.0, 0.0, 0.0, 0.0, 0.0, ...\n",
      "9     [0.0, 0.0, 0.0, 0.0, 0.0, 0.0, 0.0, 0.0, 0.0, ...\n",
      "10    [0.0, 0.0, 0.0, 0.0, 0.0, 0.0, 0.0, 0.0, 0.0, ...\n",
      "11    [0.0, 0.0, 0.0, 0.0, 0.0, 0.0, 0.0, 0.0, 0.0, ...\n",
      "12    [0.0, 0.0, 0.0, 0.0, 0.0, 0.0, 0.0, 0.0, 0.0, ...\n",
      "13    [0.0, 0.0, 0.0, 0.0, 0.0, 0.0, 0.0, 0.0, 0.0, ...\n",
      "14    [0.0, 0.0, 0.0, 0.0, 0.0, 0.0, 0.0, 0.0, 0.0, ...\n",
      "15    [0.0, 0.0, 0.0, 0.0, 0.0, 0.0, 0.0, 0.0, 0.0, ...\n",
      "16    [0.0, 0.0, 0.0, 0.0, 0.0, 0.0, 0.0, 0.0, 0.0, ...\n",
      "17    [0.0, 0.0, 0.0, 0.0, 0.0, 0.0, 0.0, 0.0, 0.0, ...\n",
      "18    [0.0, 0.0, 0.0, 0.0, 0.0, 0.0, 0.0, 0.0, 0.0, ...\n",
      "19    [-4.113186836242676, 4.90545654296875, 3.79578...\n",
      "20    [0.0, 0.0, 0.0, 0.0, 0.0, 0.0, 0.0, 0.0, 0.0, ...\n",
      "21    [0.0, 0.0, 0.0, 0.0, 0.0, 0.0, 0.0, 0.0, 0.0, ...\n",
      "22    [0.0, 0.0, 0.0, 0.0, 0.0, 0.0, 0.0, 0.0, 0.0, ...\n",
      "23    [0.0, 0.0, 0.0, 0.0, 0.0, 0.0, 0.0, 0.0, 0.0, ...\n",
      "24    [0.0, 0.0, 0.0, 0.0, 0.0, 0.0, 0.0, 0.0, 0.0, ...\n",
      "25    [-3.1300086975097656, 2.99322509765625, 2.0100...\n",
      "26    [-3.1300086975097656, 2.99322509765625, 2.0100...\n",
      "27    [-3.1300086975097656, 2.99322509765625, 2.0100...\n",
      "28    [0.0, 0.0, 0.0, 0.0, 0.0, 0.0, 0.0, 0.0, 0.0, ...\n",
      "29    [0.0, 0.0, 0.0, 0.0, 0.0, 0.0, 0.0, 0.0, 0.0, ...\n",
      "30    [0.0, 0.0, 0.0, 0.0, 0.0, 0.0, 0.0, 0.0, 0.0, ...\n",
      "31    [0.0, 0.0, 0.0, 0.0, 0.0, 0.0, 0.0, 0.0, 0.0, ...\n",
      "32    [0.0, 0.0, 0.0, 0.0, 0.0, 0.0, 0.0, 0.0, 0.0, ...\n",
      "33    [0.0, 0.0, 0.0, 0.0, 0.0, 0.0, 0.0, 0.0, 0.0, ...\n",
      "34    [0.0, 0.0, 0.0, 0.0, 0.0, 0.0, 0.0, 0.0, 0.0, ...\n",
      "35    [0.0, 0.0, 0.0, 0.0, 0.0, 0.0, 0.0, 0.0, 0.0, ...\n",
      "36    [0.0, 0.0, 0.0, 0.0, 0.0, 0.0, 0.0, 0.0, 0.0, ...\n",
      "37    [0.0, 0.0, 0.0, 0.0, 0.0, 0.0, 0.0, 0.0, 0.0, ...\n",
      "38    [0.0, 0.0, 0.0, 0.0, 0.0, 0.0, 0.0, 0.0, 0.0, ...\n",
      "39    [0.0, 0.0, 0.0, 0.0, 0.0, 0.0, 0.0, 0.0, 0.0, ...\n",
      "40    [-3.1300086975097656, 2.99322509765625, 2.0100...\n",
      "41    [0.0, 0.0, 0.0, 0.0, 0.0, 0.0, 0.0, 0.0, 0.0, ...\n",
      "42    [-3.1300086975097656, 2.99322509765625, 2.0100...\n",
      "43    [-3.1300086975097656, 2.99322509765625, 2.0100...\n",
      "44    [-3.1300086975097656, 2.99322509765625, 2.0100...\n",
      "45    [-3.1300086975097656, 2.99322509765625, 2.0100...\n",
      "46    [0.0, 0.0, 0.0, 0.0, 0.0, 0.0, 0.0, 0.0, 0.0, ...\n",
      "47    [0.0, 0.0, 0.0, 0.0, 0.0, 0.0, 0.0, 0.0, 0.0, ...\n",
      "48    [0.0, 0.0, 0.0, 0.0, 0.0, 0.0, 0.0, 0.0, 0.0, ...\n",
      "49    [0.0, 0.0, 0.0, 0.0, 0.0, 0.0, 0.0, 0.0, 0.0, ...\n",
      "Name: referer, dtype: object\n"
     ]
    }
   ],
   "source": [
    "print(df['referer'].head(50))"
   ]
  },
  {
   "cell_type": "code",
   "execution_count": 26,
   "id": "42d1bcba-6d88-4fed-8b28-3499e298696b",
   "metadata": {},
   "outputs": [],
   "source": [
    "csv_file_path = \"../../preprocessed_logs.csv\"\n",
    "df.to_csv(csv_file_path, index=False)"
   ]
  },
  {
   "cell_type": "code",
   "execution_count": 8,
   "id": "e00a1f9b-d3d9-437e-ba5a-30aa36b4c07c",
   "metadata": {},
   "outputs": [],
   "source": [
    "df = pd.read_csv(\"../../preprocessed_logs.csv\")"
   ]
  },
  {
   "cell_type": "code",
   "execution_count": 9,
   "id": "424875fc-1f19-4d1e-8b9c-b47f3369855e",
   "metadata": {},
   "outputs": [
    {
     "name": "stdout",
     "output_type": "stream",
     "text": [
      "[3.29366135597229, -1.362528681755066, -2.675278663635254, -1.7997748851776123, 0.5663796663284302, -0.8599185943603516, -0.6116217374801636, 0.33851704001426697, 0.2975451946258545, -0.14974689483642578, -6.2335524559021, 0.017428554594516754, -4.071943283081055, -0.5714901089668274, -2.098134756088257, 3.841700792312622, 1.8922122716903687, -0.09410100430250168, -1.239001750946045, -0.6095215082168579, -0.11297190934419632, 3.181720733642578, 5.318532943725586, 3.878265142440796, 5.746490478515625, -2.488905191421509, -2.437094211578369, 0.4989973306655884, -1.712589979171753, 2.6022493839263916]\n"
     ]
    }
   ],
   "source": [
    "print(df['requested_url'][0])"
   ]
  },
  {
   "cell_type": "code",
   "execution_count": 10,
   "id": "ef48d2ba-d741-4462-a89d-34286771db1a",
   "metadata": {},
   "outputs": [],
   "source": [
    "import ast"
   ]
  },
  {
   "cell_type": "code",
   "execution_count": 11,
   "id": "a59daf94-fddb-407e-8bf9-9fdb2f2010f0",
   "metadata": {},
   "outputs": [],
   "source": [
    "def split_vector_column(df, column_name):\n",
    "    # Convert string representation of list to actual list\n",
    "    df[column_name] = df[column_name].apply(ast.literal_eval)\n",
    "    \n",
    "    # Create new columns for each element in the vector\n",
    "    vector_cols = [f\"{column_name}_{i}\" for i in range(30)]\n",
    "    vector_df = pd.DataFrame(df[column_name].tolist(), columns=vector_cols)\n",
    "    \n",
    "    # Drop the original vector column and concatenate the new columns\n",
    "    df = df.drop(columns=[column_name])\n",
    "    df = pd.concat([df, vector_df], axis=1)\n",
    "    \n",
    "    return df"
   ]
  },
  {
   "cell_type": "code",
   "execution_count": 12,
   "id": "06a57179-7cd0-4e69-9c12-d46b80cc8f92",
   "metadata": {},
   "outputs": [],
   "source": [
    "df = split_vector_column(df, 'requested_url')\n",
    "df = split_vector_column(df, 'referer')\n",
    "df = split_vector_column(df, 'user_agent')"
   ]
  },
  {
   "cell_type": "code",
   "execution_count": 14,
   "id": "2a591418-e1d3-4a86-9c18-839d40251f33",
   "metadata": {},
   "outputs": [
    {
     "name": "stdout",
     "output_type": "stream",
     "text": [
      "    remote_host  bytes_sent  hour_sin  hour_cos  minute_sin  minute_cos  \\\n",
      "0   47.76.35.19    0.000099       0.0       1.0         0.0         1.0   \n",
      "1   47.76.35.19    0.000107       0.0       1.0         0.0         1.0   \n",
      "2  40.77.167.53    0.000051       0.0       1.0         0.0         1.0   \n",
      "3   47.76.35.19    0.000099       0.0       1.0         0.0         1.0   \n",
      "4   47.76.35.19    0.000107       0.0       1.0         0.0         1.0   \n",
      "\n",
      "   second_sin  second_cos  status_code_200  status_code_206  ...  \\\n",
      "0    0.000000    1.000000            False            False  ...   \n",
      "1    0.104528    0.994522             True            False  ...   \n",
      "2    0.587785    0.809017            False            False  ...   \n",
      "3    0.587785    0.809017            False            False  ...   \n",
      "4    0.669131    0.743145             True            False  ...   \n",
      "\n",
      "   user_agent_20  user_agent_21  user_agent_22  user_agent_23  user_agent_24  \\\n",
      "0       1.284827      -1.114402      -2.502846       2.656407       0.805616   \n",
      "1       1.284827      -1.114402      -2.502846       2.656407       0.805616   \n",
      "2       1.871726      -0.834942      -1.184441       2.656424       0.764813   \n",
      "3       0.895437      -1.722219      -2.787247       1.805474       0.686226   \n",
      "4       0.895437      -1.722219      -2.787247       1.805474       0.686226   \n",
      "\n",
      "   user_agent_25  user_agent_26  user_agent_27  user_agent_28  user_agent_29  \n",
      "0      -0.381539       3.155905       0.581326      -3.177800      -2.111870  \n",
      "1      -0.381539       3.155905       0.581326      -3.177800      -2.111870  \n",
      "2      -1.130327       2.122945       0.041878       0.019034      -2.853462  \n",
      "3      -0.194353       3.324309       0.914214      -2.607662      -2.049975  \n",
      "4      -0.194353       3.324309       0.914214      -2.607662      -2.049975  \n",
      "\n",
      "[5 rows x 113 columns]\n"
     ]
    }
   ],
   "source": [
    "print(df.head())"
   ]
  },
  {
   "cell_type": "code",
   "execution_count": null,
   "id": "186dc1b3-ee51-4ba0-a5ab-419727b0232a",
   "metadata": {},
   "outputs": [],
   "source": [
    "csv_file_path = \"../../preplogs_model2.csv\"\n",
    "df.to_csv(csv_file_path, index=False)"
   ]
  },
  {
   "cell_type": "code",
   "execution_count": 22,
   "id": "3186186d-9e78-419a-8666-30f57b71b47e",
   "metadata": {},
   "outputs": [],
   "source": [
    "df = pd.read_csv(\"../../preplogs_model2.csv\")"
   ]
  },
  {
   "cell_type": "code",
   "execution_count": 23,
   "id": "151885ec-7c40-454a-b557-2b0bc87a32c2",
   "metadata": {},
   "outputs": [
    {
     "name": "stdout",
     "output_type": "stream",
     "text": [
      "    remote_host  bytes_sent  hour_sin  hour_cos  minute_sin  minute_cos  \\\n",
      "0   47.76.35.19    0.000099       0.0       1.0         0.0         1.0   \n",
      "1   47.76.35.19    0.000107       0.0       1.0         0.0         1.0   \n",
      "2  40.77.167.53    0.000051       0.0       1.0         0.0         1.0   \n",
      "3   47.76.35.19    0.000099       0.0       1.0         0.0         1.0   \n",
      "4   47.76.35.19    0.000107       0.0       1.0         0.0         1.0   \n",
      "\n",
      "   second_sin  second_cos  status_code_200  status_code_206  ...  \\\n",
      "0    0.000000    1.000000            False            False  ...   \n",
      "1    0.104528    0.994522             True            False  ...   \n",
      "2    0.587785    0.809017            False            False  ...   \n",
      "3    0.587785    0.809017            False            False  ...   \n",
      "4    0.669131    0.743145             True            False  ...   \n",
      "\n",
      "   user_agent_20  user_agent_21  user_agent_22  user_agent_23  user_agent_24  \\\n",
      "0       1.284827      -1.114402      -2.502846       2.656407       0.805616   \n",
      "1       1.284827      -1.114402      -2.502846       2.656407       0.805616   \n",
      "2       1.871726      -0.834942      -1.184441       2.656424       0.764813   \n",
      "3       0.895437      -1.722219      -2.787247       1.805474       0.686226   \n",
      "4       0.895437      -1.722219      -2.787247       1.805474       0.686226   \n",
      "\n",
      "   user_agent_25  user_agent_26  user_agent_27  user_agent_28  user_agent_29  \n",
      "0      -0.381539       3.155905       0.581326      -3.177800      -2.111870  \n",
      "1      -0.381539       3.155905       0.581326      -3.177800      -2.111870  \n",
      "2      -1.130327       2.122945       0.041878       0.019034      -2.853462  \n",
      "3      -0.194353       3.324309       0.914214      -2.607662      -2.049975  \n",
      "4      -0.194353       3.324309       0.914214      -2.607662      -2.049975  \n",
      "\n",
      "[5 rows x 113 columns]\n"
     ]
    }
   ],
   "source": [
    "print(df.head())\n"
   ]
  },
  {
   "cell_type": "code",
   "execution_count": 24,
   "id": "2097d257-6dcf-4ada-92ee-250ee9ef9d58",
   "metadata": {},
   "outputs": [],
   "source": [
    "from tensorflow.keras.preprocessing.sequence import pad_sequences\n",
    "grouped = df.groupby('remote_host')"
   ]
  },
  {
   "cell_type": "code",
   "execution_count": 26,
   "id": "39229244-0100-4604-9efd-e2d8249d0157",
   "metadata": {},
   "outputs": [],
   "source": [
    "remote_hosts_ordered = [remote_host for remote_host, _ in grouped]"
   ]
  },
  {
   "cell_type": "code",
   "execution_count": 28,
   "id": "68dec9d8-0c4c-4b67-b56c-402369453a89",
   "metadata": {},
   "outputs": [],
   "source": [
    "import numpy as np"
   ]
  },
  {
   "cell_type": "code",
   "execution_count": 29,
   "id": "a39ac700-d2fe-4180-ba6c-f66219a1cc6d",
   "metadata": {},
   "outputs": [],
   "source": [
    "max_timesteps = 20\n",
    "sequences = []\n",
    "for remote_host, group_data in grouped:\n",
    "    # drop 'remote_host' column as it's no longer needed for individual sequences\n",
    "    group_data = group_data.drop(columns=['remote_host'])\n",
    "    \n",
    "    # convert the DataFrame to numpy array\n",
    "    sequence_array = group_data.to_numpy()\n",
    "    \n",
    "    # pad the sequence with zeros if it's shorter than max_timesteps\n",
    "    padded_sequence = pad_sequences([sequence_array], maxlen=max_timesteps, dtype='float32', padding='post', truncating='post')\n",
    "    \n",
    "    # append the padded sequence to the list of sequences\n",
    "    sequences.append(padded_sequence)\n",
    "\n",
    "# stack all sequences to create the final input array for the LSTM\n",
    "X = np.vstack(sequences)"
   ]
  },
  {
   "cell_type": "code",
   "execution_count": 35,
   "id": "86efee58-958a-4b83-9509-4a98441673a3",
   "metadata": {},
   "outputs": [
    {
     "name": "stdout",
     "output_type": "stream",
     "text": [
      "[ 2.4171962e-04  2.5881904e-01 -9.6592581e-01 -6.6913062e-01\n",
      " -7.4314481e-01  0.0000000e+00  1.0000000e+00  1.0000000e+00\n",
      "  0.0000000e+00  0.0000000e+00  0.0000000e+00  0.0000000e+00\n",
      "  0.0000000e+00  0.0000000e+00  0.0000000e+00  0.0000000e+00\n",
      "  0.0000000e+00  0.0000000e+00  1.0000000e+00  0.0000000e+00\n",
      "  0.0000000e+00  0.0000000e+00  5.5119138e+00 -6.7855902e+00\n",
      "  4.5224065e-01  3.7739806e+00 -2.3413091e+00  2.9377055e+00\n",
      "  2.1591079e-01  2.1411953e+00  1.4238980e+00  5.4534845e+00\n",
      "  1.8088773e-01  1.2447406e+00 -1.0076211e+01 -5.7124701e+00\n",
      " -1.1332980e+00  9.8834677e+00 -3.2518690e+00  3.8727677e+00\n",
      "  8.4496078e+00 -1.4206105e+00  3.4996810e+00 -1.3756735e+00\n",
      "  2.7939990e+00  2.9008355e+00 -4.4585171e+00  4.8093591e+00\n",
      " -1.1569674e+01  1.6727483e+00  1.4322864e+01  2.5904706e+00\n",
      "  0.0000000e+00  0.0000000e+00  0.0000000e+00  0.0000000e+00\n",
      "  0.0000000e+00  0.0000000e+00  0.0000000e+00  0.0000000e+00\n",
      "  0.0000000e+00  0.0000000e+00  0.0000000e+00  0.0000000e+00\n",
      "  0.0000000e+00  0.0000000e+00  0.0000000e+00  0.0000000e+00\n",
      "  0.0000000e+00  0.0000000e+00  0.0000000e+00  0.0000000e+00\n",
      "  0.0000000e+00  0.0000000e+00  0.0000000e+00  0.0000000e+00\n",
      "  0.0000000e+00  0.0000000e+00  0.0000000e+00  0.0000000e+00\n",
      "  0.0000000e+00  0.0000000e+00 -2.1122922e-01 -2.3619525e+00\n",
      "  1.5438761e+00  2.7254422e+00 -2.8760018e+00 -1.4901247e+00\n",
      " -2.2762048e+00 -4.1411510e-01 -1.4072849e-01  1.8778425e+00\n",
      "  9.6398598e-01  2.7127137e+00 -2.0139143e+00 -1.0922936e+00\n",
      "  2.0633452e+00 -4.5535237e-01 -2.2195039e+00  4.4458136e-01\n",
      "  4.2706423e+00 -2.1673162e+00 -1.5302374e+00 -1.5333802e+00\n",
      " -3.7497389e+00 -1.8941292e+00 -1.0877467e+00  4.9956007e+00\n",
      "  1.9577513e+00  8.1991959e-01  2.0560536e+00  1.7430423e+00]\n"
     ]
    }
   ],
   "source": [
    "print(X[0][0])"
   ]
  },
  {
   "cell_type": "code",
   "execution_count": null,
   "id": "40f368f0-86f3-40c9-a21a-a273fabefc8f",
   "metadata": {},
   "outputs": [],
   "source": []
  }
 ],
 "metadata": {
  "kernelspec": {
   "display_name": "Python 3 (ipykernel)",
   "language": "python",
   "name": "python3"
  },
  "language_info": {
   "codemirror_mode": {
    "name": "ipython",
    "version": 3
   },
   "file_extension": ".py",
   "mimetype": "text/x-python",
   "name": "python",
   "nbconvert_exporter": "python",
   "pygments_lexer": "ipython3",
   "version": "3.12.3"
  }
 },
 "nbformat": 4,
 "nbformat_minor": 5
}
