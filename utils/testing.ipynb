{
 "cells": [
  {
   "cell_type": "code",
   "execution_count": 27,
   "id": "c328824a-0def-4893-91e8-c6249016ea67",
   "metadata": {},
   "outputs": [
    {
     "data": {
      "text/plain": [
       "<module 'utils' from 'C:\\\\Users\\\\musta\\\\Desktop\\\\synthesis_project_UAB\\\\utils\\\\utils.py'>"
      ]
     },
     "execution_count": 27,
     "metadata": {},
     "output_type": "execute_result"
    }
   ],
   "source": [
    "# Importing all necessary preprocessing functions from utils\n",
    "import utils\n",
    "from utils import preprocessing_TS, preprocessing_SC, preprocessing_UA, preprocessing_R, preprocessing_RU, preprocessing_RM, preprocessing_RH, preprocessing_BS, preprocessing_CLEAN\n",
    "import importlib\n",
    "importlib.reload(utils)"
   ]
  },
  {
   "cell_type": "code",
   "execution_count": 28,
   "id": "2a5bd7d4-3e28-41ce-85c0-9cb91505256e",
   "metadata": {},
   "outputs": [
    {
     "data": {
      "text/plain": [
       "0        sitgesanytime.com\n",
       "1    www.sitgesanytime.com\n",
       "2    www.sitgesanytime.com\n",
       "3        sitgesanytime.com\n",
       "4    www.sitgesanytime.com\n",
       "Name: server_name, dtype: object"
      ]
     },
     "execution_count": 28,
     "metadata": {},
     "output_type": "execute_result"
    }
   ],
   "source": [
    "import pandas as pd\n",
    "# load data\n",
    "df = pd.read_csv(\"../data/combined_logs.csv\")\n",
    "df['server_name'].head()"
   ]
  },
  {
   "cell_type": "code",
   "execution_count": 29,
   "id": "c7f5536b-775e-4ea1-a9cf-7eb8468d3f49",
   "metadata": {},
   "outputs": [
    {
     "name": "stdout",
     "output_type": "stream",
     "text": [
      "    remote_host                   timestamp request_method  \\\n",
      "0   47.76.35.19  22/Jan/2024:00:00:00 +0100           HEAD   \n",
      "1   47.76.35.19  22/Jan/2024:00:00:01 +0100           HEAD   \n",
      "2  40.77.167.53  22/Jan/2024:00:00:06 +0100            GET   \n",
      "3   47.76.35.19  22/Jan/2024:00:00:06 +0100           HEAD   \n",
      "4   47.76.35.19  22/Jan/2024:00:00:07 +0100           HEAD   \n",
      "\n",
      "                                       requested_url  status_code  bytes_sent  \\\n",
      "0  /fr/pag492/explora-platges-i-ports-2/id12/les-...          301        4840   \n",
      "1  /fr/pag492/explora-platges-i-ports-2/id12/les-...          200        5223   \n",
      "2  /ca/noticias/84/sitges-obt%C3%A9-el-certificat...          404        2509   \n",
      "3  /fr/pag492/explora-platges-i-ports-2/id12/les-...          301        4840   \n",
      "4  /fr/pag492/explora-platges-i-ports-2/id12/les-...          200        5260   \n",
      "\n",
      "  referer                                         user_agent  \n",
      "0       -  Mozilla/5.0 (Windows NT 10.0; Win64; x64) Appl...  \n",
      "1       -  Mozilla/5.0 (Windows NT 10.0; Win64; x64) Appl...  \n",
      "2       -  Mozilla/5.0 AppleWebKit/537.36 (KHTML, like Ge...  \n",
      "3       -  Mozilla/5.0 (Windows NT 6.1; Win64; x64) Apple...  \n",
      "4       -  Mozilla/5.0 (Windows NT 6.1; Win64; x64) Apple...  \n"
     ]
    }
   ],
   "source": [
    "df = preprocessing_CLEAN(df)\n",
    "print(df.head())"
   ]
  },
  {
   "cell_type": "code",
   "execution_count": null,
   "id": "a8c58705-4fb8-4ec3-bc91-c4a44b013404",
   "metadata": {},
   "outputs": [],
   "source": [
    "df = preprocessing_UA(df)"
   ]
  },
  {
   "cell_type": "code",
   "execution_count": 33,
   "id": "97ab75c3-c51f-4072-9e88-68f9e8ce4483",
   "metadata": {},
   "outputs": [
    {
     "name": "stdout",
     "output_type": "stream",
     "text": [
      "    remote_host                   timestamp request_method  \\\n",
      "0   47.76.35.19  22/Jan/2024:00:00:00 +0100           HEAD   \n",
      "1   47.76.35.19  22/Jan/2024:00:00:01 +0100           HEAD   \n",
      "2  40.77.167.53  22/Jan/2024:00:00:06 +0100            GET   \n",
      "3   47.76.35.19  22/Jan/2024:00:00:06 +0100           HEAD   \n",
      "4   47.76.35.19  22/Jan/2024:00:00:07 +0100           HEAD   \n",
      "\n",
      "                                       requested_url  status_code  bytes_sent  \\\n",
      "0  /fr/pag492/explora-platges-i-ports-2/id12/les-...          301        4840   \n",
      "1  /fr/pag492/explora-platges-i-ports-2/id12/les-...          200        5223   \n",
      "2  /ca/noticias/84/sitges-obt%C3%A9-el-certificat...          404        2509   \n",
      "3  /fr/pag492/explora-platges-i-ports-2/id12/les-...          301        4840   \n",
      "4  /fr/pag492/explora-platges-i-ports-2/id12/les-...          200        5260   \n",
      "\n",
      "  referer                                         user_agent  \n",
      "0       -  [[-5.4683547, -0.42286247, 2.4001846, -2.88732...  \n",
      "1       -  [[-5.4683547, -0.42286247, 2.4001846, -2.88732...  \n",
      "2       -  [[-5.4683547, -0.42286247, 2.4001846, -2.88732...  \n",
      "3       -  [[-5.4683547, -0.42286247, 2.4001846, -2.88732...  \n",
      "4       -  [[-5.4683547, -0.42286247, 2.4001846, -2.88732...  \n"
     ]
    }
   ],
   "source": [
    "print(df.head())"
   ]
  },
  {
   "cell_type": "code",
   "execution_count": null,
   "id": "58a602a4-e62d-4b23-ad9f-f1f5952afe63",
   "metadata": {},
   "outputs": [],
   "source": []
  }
 ],
 "metadata": {
  "kernelspec": {
   "display_name": "Python 3.9 (tf4)",
   "language": "python",
   "name": "tensorflowv4"
  },
  "language_info": {
   "codemirror_mode": {
    "name": "ipython",
    "version": 3
   },
   "file_extension": ".py",
   "mimetype": "text/x-python",
   "name": "python",
   "nbconvert_exporter": "python",
   "pygments_lexer": "ipython3",
   "version": "3.9.18"
  }
 },
 "nbformat": 4,
 "nbformat_minor": 5
}
