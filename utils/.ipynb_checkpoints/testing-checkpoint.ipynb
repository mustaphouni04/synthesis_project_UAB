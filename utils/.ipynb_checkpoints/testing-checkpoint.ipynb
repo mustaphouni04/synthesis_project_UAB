{
 "cells": [
  {
   "cell_type": "code",
   "execution_count": 13,
   "id": "c328824a-0def-4893-91e8-c6249016ea67",
   "metadata": {},
   "outputs": [
    {
     "data": {
      "text/plain": [
       "<module 'utils' from 'C:\\\\Users\\\\musta\\\\Desktop\\\\synthesis_project_UAB\\\\utils\\\\utils.py'>"
      ]
     },
     "execution_count": 13,
     "metadata": {},
     "output_type": "execute_result"
    }
   ],
   "source": [
    "# Importing all necessary preprocessing functions from utils\n",
    "import utils\n",
    "from utils import preprocessing_TS, preprocessing_SC, preprocessing_UA, preprocessing_R, preprocessing_RU, preprocessing_RM, preprocessing_RH, preprocessing_BS, preprocessing_CLEAN\n",
    "import importlib\n",
    "importlib.reload(utils)"
   ]
  },
  {
   "cell_type": "code",
   "execution_count": 14,
   "id": "2a5bd7d4-3e28-41ce-85c0-9cb91505256e",
   "metadata": {},
   "outputs": [
    {
     "data": {
      "text/plain": [
       "0        sitgesanytime.com\n",
       "1    www.sitgesanytime.com\n",
       "2    www.sitgesanytime.com\n",
       "3        sitgesanytime.com\n",
       "4    www.sitgesanytime.com\n",
       "Name: server_name, dtype: object"
      ]
     },
     "execution_count": 14,
     "metadata": {},
     "output_type": "execute_result"
    }
   ],
   "source": [
    "import pandas as pd\n",
    "# load data\n",
    "df = pd.read_csv(\"../data/combined_logs.csv\")\n",
    "df_copy = df.copy()\n",
    "df_copy2 = df.copy()\n",
    "df_copy3 = df.copy()\n",
    "df['server_name'].head()"
   ]
  },
  {
   "cell_type": "code",
   "execution_count": 15,
   "id": "c7f5536b-775e-4ea1-a9cf-7eb8468d3f49",
   "metadata": {},
   "outputs": [
    {
     "name": "stdout",
     "output_type": "stream",
     "text": [
      "    remote_host                   timestamp request_method  \\\n",
      "0   47.76.35.19  22/Jan/2024:00:00:00 +0100           HEAD   \n",
      "1   47.76.35.19  22/Jan/2024:00:00:01 +0100           HEAD   \n",
      "2  40.77.167.53  22/Jan/2024:00:00:06 +0100            GET   \n",
      "3   47.76.35.19  22/Jan/2024:00:00:06 +0100           HEAD   \n",
      "4   47.76.35.19  22/Jan/2024:00:00:07 +0100           HEAD   \n",
      "\n",
      "                                       requested_url  status_code  bytes_sent  \\\n",
      "0  /fr/pag492/explora-platges-i-ports-2/id12/les-...          301        4840   \n",
      "1  /fr/pag492/explora-platges-i-ports-2/id12/les-...          200        5223   \n",
      "2  /ca/noticias/84/sitges-obt%C3%A9-el-certificat...          404        2509   \n",
      "3  /fr/pag492/explora-platges-i-ports-2/id12/les-...          301        4840   \n",
      "4  /fr/pag492/explora-platges-i-ports-2/id12/les-...          200        5260   \n",
      "\n",
      "  referer                                         user_agent  \n",
      "0       -  Mozilla/5.0 (Windows NT 10.0; Win64; x64) Appl...  \n",
      "1       -  Mozilla/5.0 (Windows NT 10.0; Win64; x64) Appl...  \n",
      "2       -  Mozilla/5.0 AppleWebKit/537.36 (KHTML, like Ge...  \n",
      "3       -  Mozilla/5.0 (Windows NT 6.1; Win64; x64) Apple...  \n",
      "4       -  Mozilla/5.0 (Windows NT 6.1; Win64; x64) Apple...  \n"
     ]
    }
   ],
   "source": [
    "df = preprocessing_CLEAN(df)\n",
    "print(df.head())"
   ]
  },
  {
   "cell_type": "code",
   "execution_count": 16,
   "id": "0555e35c-1c3e-414d-8bfa-e1f38aba8939",
   "metadata": {},
   "outputs": [],
   "source": [
    "df = preprocessing_TS(df)"
   ]
  },
  {
   "cell_type": "code",
   "execution_count": 17,
   "id": "dc4d5b64-a093-49b4-8af4-5df3375f6c70",
   "metadata": {},
   "outputs": [
    {
     "name": "stdout",
     "output_type": "stream",
     "text": [
      "    remote_host request_method  \\\n",
      "0   47.76.35.19           HEAD   \n",
      "1   47.76.35.19           HEAD   \n",
      "2  40.77.167.53            GET   \n",
      "3   47.76.35.19           HEAD   \n",
      "4   47.76.35.19           HEAD   \n",
      "\n",
      "                                       requested_url  status_code  bytes_sent  \\\n",
      "0  /fr/pag492/explora-platges-i-ports-2/id12/les-...          301        4840   \n",
      "1  /fr/pag492/explora-platges-i-ports-2/id12/les-...          200        5223   \n",
      "2  /ca/noticias/84/sitges-obt%C3%A9-el-certificat...          404        2509   \n",
      "3  /fr/pag492/explora-platges-i-ports-2/id12/les-...          301        4840   \n",
      "4  /fr/pag492/explora-platges-i-ports-2/id12/les-...          200        5260   \n",
      "\n",
      "  referer                                         user_agent  hour_sin  \\\n",
      "0       -  Mozilla/5.0 (Windows NT 10.0; Win64; x64) Appl...       0.0   \n",
      "1       -  Mozilla/5.0 (Windows NT 10.0; Win64; x64) Appl...       0.0   \n",
      "2       -  Mozilla/5.0 AppleWebKit/537.36 (KHTML, like Ge...       0.0   \n",
      "3       -  Mozilla/5.0 (Windows NT 6.1; Win64; x64) Apple...       0.0   \n",
      "4       -  Mozilla/5.0 (Windows NT 6.1; Win64; x64) Apple...       0.0   \n",
      "\n",
      "   hour_cos  minute_sin  minute_cos  second_sin  second_cos  \n",
      "0       1.0         0.0         1.0    0.000000    1.000000  \n",
      "1       1.0         0.0         1.0    0.104528    0.994522  \n",
      "2       1.0         0.0         1.0    0.587785    0.809017  \n",
      "3       1.0         0.0         1.0    0.587785    0.809017  \n",
      "4       1.0         0.0         1.0    0.669131    0.743145  \n"
     ]
    }
   ],
   "source": [
    "print(df.head())"
   ]
  },
  {
   "cell_type": "code",
   "execution_count": 18,
   "id": "3dedb45b-4f38-4298-b465-75105f83fc4d",
   "metadata": {},
   "outputs": [],
   "source": [
    "df = preprocessing_SC(df)"
   ]
  },
  {
   "cell_type": "code",
   "execution_count": 19,
   "id": "0e1cdebc-7b57-464d-a03e-70183621e5ad",
   "metadata": {},
   "outputs": [
    {
     "name": "stdout",
     "output_type": "stream",
     "text": [
      "    remote_host request_method  \\\n",
      "0   47.76.35.19           HEAD   \n",
      "1   47.76.35.19           HEAD   \n",
      "2  40.77.167.53            GET   \n",
      "3   47.76.35.19           HEAD   \n",
      "4   47.76.35.19           HEAD   \n",
      "\n",
      "                                       requested_url  bytes_sent referer  \\\n",
      "0  /fr/pag492/explora-platges-i-ports-2/id12/les-...        4840       -   \n",
      "1  /fr/pag492/explora-platges-i-ports-2/id12/les-...        5223       -   \n",
      "2  /ca/noticias/84/sitges-obt%C3%A9-el-certificat...        2509       -   \n",
      "3  /fr/pag492/explora-platges-i-ports-2/id12/les-...        4840       -   \n",
      "4  /fr/pag492/explora-platges-i-ports-2/id12/les-...        5260       -   \n",
      "\n",
      "                                          user_agent  hour_sin  hour_cos  \\\n",
      "0  Mozilla/5.0 (Windows NT 10.0; Win64; x64) Appl...       0.0       1.0   \n",
      "1  Mozilla/5.0 (Windows NT 10.0; Win64; x64) Appl...       0.0       1.0   \n",
      "2  Mozilla/5.0 AppleWebKit/537.36 (KHTML, like Ge...       0.0       1.0   \n",
      "3  Mozilla/5.0 (Windows NT 6.1; Win64; x64) Apple...       0.0       1.0   \n",
      "4  Mozilla/5.0 (Windows NT 6.1; Win64; x64) Apple...       0.0       1.0   \n",
      "\n",
      "   minute_sin  minute_cos  ...  status_code_200  status_code_206  \\\n",
      "0         0.0         1.0  ...            False            False   \n",
      "1         0.0         1.0  ...             True            False   \n",
      "2         0.0         1.0  ...            False            False   \n",
      "3         0.0         1.0  ...            False            False   \n",
      "4         0.0         1.0  ...             True            False   \n",
      "\n",
      "   status_code_301  status_code_302  status_code_304  status_code_400  \\\n",
      "0             True            False            False            False   \n",
      "1            False            False            False            False   \n",
      "2            False            False            False            False   \n",
      "3             True            False            False            False   \n",
      "4            False            False            False            False   \n",
      "\n",
      "   status_code_401  status_code_403  status_code_404  status_code_504  \n",
      "0            False            False            False            False  \n",
      "1            False            False            False            False  \n",
      "2            False            False             True            False  \n",
      "3            False            False            False            False  \n",
      "4            False            False            False            False  \n",
      "\n",
      "[5 rows x 22 columns]\n"
     ]
    }
   ],
   "source": [
    "print(df.head())"
   ]
  },
  {
   "cell_type": "code",
   "execution_count": 20,
   "id": "378d6986-3886-437b-b3b4-ce0a40e997b7",
   "metadata": {},
   "outputs": [],
   "source": [
    "df = preprocessing_RM(df)"
   ]
  },
  {
   "cell_type": "code",
   "execution_count": 21,
   "id": "1c2e7ff8-4543-432b-b352-9d6efd6d48d9",
   "metadata": {},
   "outputs": [
    {
     "name": "stdout",
     "output_type": "stream",
     "text": [
      "    remote_host                                      requested_url  \\\n",
      "0   47.76.35.19  /fr/pag492/explora-platges-i-ports-2/id12/les-...   \n",
      "1   47.76.35.19  /fr/pag492/explora-platges-i-ports-2/id12/les-...   \n",
      "2  40.77.167.53  /ca/noticias/84/sitges-obt%C3%A9-el-certificat...   \n",
      "3   47.76.35.19  /fr/pag492/explora-platges-i-ports-2/id12/les-...   \n",
      "4   47.76.35.19  /fr/pag492/explora-platges-i-ports-2/id12/les-...   \n",
      "\n",
      "   bytes_sent referer                                         user_agent  \\\n",
      "0        4840       -  Mozilla/5.0 (Windows NT 10.0; Win64; x64) Appl...   \n",
      "1        5223       -  Mozilla/5.0 (Windows NT 10.0; Win64; x64) Appl...   \n",
      "2        2509       -  Mozilla/5.0 AppleWebKit/537.36 (KHTML, like Ge...   \n",
      "3        4840       -  Mozilla/5.0 (Windows NT 6.1; Win64; x64) Apple...   \n",
      "4        5260       -  Mozilla/5.0 (Windows NT 6.1; Win64; x64) Apple...   \n",
      "\n",
      "   hour_sin  hour_cos  minute_sin  minute_cos  second_sin  ...  \\\n",
      "0       0.0       1.0         0.0         1.0    0.000000  ...   \n",
      "1       0.0       1.0         0.0         1.0    0.104528  ...   \n",
      "2       0.0       1.0         0.0         1.0    0.587785  ...   \n",
      "3       0.0       1.0         0.0         1.0    0.587785  ...   \n",
      "4       0.0       1.0         0.0         1.0    0.669131  ...   \n",
      "\n",
      "   status_code_400  status_code_401  status_code_403  status_code_404  \\\n",
      "0            False            False            False            False   \n",
      "1            False            False            False            False   \n",
      "2            False            False            False             True   \n",
      "3            False            False            False            False   \n",
      "4            False            False            False            False   \n",
      "\n",
      "   status_code_504  request_method_CONNECT  request_method_GET  \\\n",
      "0            False                   False               False   \n",
      "1            False                   False               False   \n",
      "2            False                   False                True   \n",
      "3            False                   False               False   \n",
      "4            False                   False               False   \n",
      "\n",
      "   request_method_HEAD  request_method_OPTIONS  request_method_POST  \n",
      "0                 True                   False                False  \n",
      "1                 True                   False                False  \n",
      "2                False                   False                False  \n",
      "3                 True                   False                False  \n",
      "4                 True                   False                False  \n",
      "\n",
      "[5 rows x 26 columns]\n"
     ]
    }
   ],
   "source": [
    "print(df.head())"
   ]
  },
  {
   "cell_type": "code",
   "execution_count": 22,
   "id": "a8c58705-4fb8-4ec3-bc91-c4a44b013404",
   "metadata": {},
   "outputs": [],
   "source": [
    "df = preprocessing_BS(df)"
   ]
  },
  {
   "cell_type": "code",
   "execution_count": 23,
   "id": "97ab75c3-c51f-4072-9e88-68f9e8ce4483",
   "metadata": {},
   "outputs": [
    {
     "name": "stdout",
     "output_type": "stream",
     "text": [
      "0    0.000099\n",
      "1    0.000107\n",
      "2    0.000051\n",
      "3    0.000099\n",
      "4    0.000107\n",
      "Name: bytes_sent, dtype: float64\n"
     ]
    }
   ],
   "source": [
    "print(df['bytes_sent'].head())"
   ]
  },
  {
   "cell_type": "code",
   "execution_count": 24,
   "id": "749d906f-d208-431a-9ace-731051df6ba7",
   "metadata": {},
   "outputs": [
    {
     "name": "stdout",
     "output_type": "stream",
     "text": [
      "    remote_host                                      requested_url  \\\n",
      "0   47.76.35.19  /fr/pag492/explora-platges-i-ports-2/id12/les-...   \n",
      "1   47.76.35.19  /fr/pag492/explora-platges-i-ports-2/id12/les-...   \n",
      "2  40.77.167.53  /ca/noticias/84/sitges-obt%C3%A9-el-certificat...   \n",
      "3   47.76.35.19  /fr/pag492/explora-platges-i-ports-2/id12/les-...   \n",
      "4   47.76.35.19  /fr/pag492/explora-platges-i-ports-2/id12/les-...   \n",
      "\n",
      "   bytes_sent referer                                         user_agent  \\\n",
      "0    0.000099       -  Mozilla/5.0 (Windows NT 10.0; Win64; x64) Appl...   \n",
      "1    0.000107       -  Mozilla/5.0 (Windows NT 10.0; Win64; x64) Appl...   \n",
      "2    0.000051       -  Mozilla/5.0 AppleWebKit/537.36 (KHTML, like Ge...   \n",
      "3    0.000099       -  Mozilla/5.0 (Windows NT 6.1; Win64; x64) Apple...   \n",
      "4    0.000107       -  Mozilla/5.0 (Windows NT 6.1; Win64; x64) Apple...   \n",
      "\n",
      "   hour_sin  hour_cos  minute_sin  minute_cos  second_sin  ...  \\\n",
      "0       0.0       1.0         0.0         1.0    0.000000  ...   \n",
      "1       0.0       1.0         0.0         1.0    0.104528  ...   \n",
      "2       0.0       1.0         0.0         1.0    0.587785  ...   \n",
      "3       0.0       1.0         0.0         1.0    0.587785  ...   \n",
      "4       0.0       1.0         0.0         1.0    0.669131  ...   \n",
      "\n",
      "   status_code_400  status_code_401  status_code_403  status_code_404  \\\n",
      "0            False            False            False            False   \n",
      "1            False            False            False            False   \n",
      "2            False            False            False             True   \n",
      "3            False            False            False            False   \n",
      "4            False            False            False            False   \n",
      "\n",
      "   status_code_504  request_method_CONNECT  request_method_GET  \\\n",
      "0            False                   False               False   \n",
      "1            False                   False               False   \n",
      "2            False                   False                True   \n",
      "3            False                   False               False   \n",
      "4            False                   False               False   \n",
      "\n",
      "   request_method_HEAD  request_method_OPTIONS  request_method_POST  \n",
      "0                 True                   False                False  \n",
      "1                 True                   False                False  \n",
      "2                False                   False                False  \n",
      "3                 True                   False                False  \n",
      "4                 True                   False                False  \n",
      "\n",
      "[5 rows x 26 columns]\n"
     ]
    }
   ],
   "source": [
    "print(df.head())"
   ]
  },
  {
   "cell_type": "code",
   "execution_count": 25,
   "id": "f485fc1b-7e1d-412b-9d2a-b375a640c330",
   "metadata": {},
   "outputs": [],
   "source": [
    "df_copy = preprocessing_R(df_copy)"
   ]
  },
  {
   "cell_type": "code",
   "execution_count": 26,
   "id": "35991559-3708-4780-803f-3f87fc45bfd8",
   "metadata": {},
   "outputs": [],
   "source": [
    "referer_column = df_copy['referer']\n",
    "df['referer'] = referer_column"
   ]
  },
  {
   "cell_type": "code",
   "execution_count": 27,
   "id": "0b414d82-0ae2-4ace-842b-a44d5a5fe629",
   "metadata": {},
   "outputs": [
    {
     "name": "stdout",
     "output_type": "stream",
     "text": [
      "    remote_host                                      requested_url  \\\n",
      "0   47.76.35.19  /fr/pag492/explora-platges-i-ports-2/id12/les-...   \n",
      "1   47.76.35.19  /fr/pag492/explora-platges-i-ports-2/id12/les-...   \n",
      "2  40.77.167.53  /ca/noticias/84/sitges-obt%C3%A9-el-certificat...   \n",
      "3   47.76.35.19  /fr/pag492/explora-platges-i-ports-2/id12/les-...   \n",
      "4   47.76.35.19  /fr/pag492/explora-platges-i-ports-2/id12/les-...   \n",
      "\n",
      "   bytes_sent referer                                         user_agent  \\\n",
      "0    0.000099      []  Mozilla/5.0 (Windows NT 10.0; Win64; x64) Appl...   \n",
      "1    0.000107      []  Mozilla/5.0 (Windows NT 10.0; Win64; x64) Appl...   \n",
      "2    0.000051      []  Mozilla/5.0 AppleWebKit/537.36 (KHTML, like Ge...   \n",
      "3    0.000099      []  Mozilla/5.0 (Windows NT 6.1; Win64; x64) Apple...   \n",
      "4    0.000107      []  Mozilla/5.0 (Windows NT 6.1; Win64; x64) Apple...   \n",
      "\n",
      "   hour_sin  hour_cos  minute_sin  minute_cos  second_sin  ...  \\\n",
      "0       0.0       1.0         0.0         1.0    0.000000  ...   \n",
      "1       0.0       1.0         0.0         1.0    0.104528  ...   \n",
      "2       0.0       1.0         0.0         1.0    0.587785  ...   \n",
      "3       0.0       1.0         0.0         1.0    0.587785  ...   \n",
      "4       0.0       1.0         0.0         1.0    0.669131  ...   \n",
      "\n",
      "   status_code_400  status_code_401  status_code_403  status_code_404  \\\n",
      "0            False            False            False            False   \n",
      "1            False            False            False            False   \n",
      "2            False            False            False             True   \n",
      "3            False            False            False            False   \n",
      "4            False            False            False            False   \n",
      "\n",
      "   status_code_504  request_method_CONNECT  request_method_GET  \\\n",
      "0            False                   False               False   \n",
      "1            False                   False               False   \n",
      "2            False                   False                True   \n",
      "3            False                   False               False   \n",
      "4            False                   False               False   \n",
      "\n",
      "   request_method_HEAD  request_method_OPTIONS  request_method_POST  \n",
      "0                 True                   False                False  \n",
      "1                 True                   False                False  \n",
      "2                False                   False                False  \n",
      "3                 True                   False                False  \n",
      "4                 True                   False                False  \n",
      "\n",
      "[5 rows x 26 columns]\n"
     ]
    }
   ],
   "source": [
    "print(df.head())"
   ]
  },
  {
   "cell_type": "code",
   "execution_count": 28,
   "id": "f420b953-a1cc-4d71-a545-69d95a68ac7c",
   "metadata": {},
   "outputs": [],
   "source": [
    "df_copy2 = preprocessing_RU(df_copy2)"
   ]
  },
  {
   "cell_type": "code",
   "execution_count": 29,
   "id": "d484882d-bfd4-45ea-bef6-297a0bccd840",
   "metadata": {},
   "outputs": [],
   "source": [
    "requested_url_column = df_copy2['requested_url']\n",
    "df['requested_url'] = requested_url_column"
   ]
  },
  {
   "cell_type": "code",
   "execution_count": 30,
   "id": "e79e782f-672b-4184-9640-b8a5d62f79f0",
   "metadata": {},
   "outputs": [
    {
     "name": "stdout",
     "output_type": "stream",
     "text": [
      "    remote_host                                      requested_url  \\\n",
      "0   47.76.35.19  [[-11.76804, 10.914179, -5.559695, 3.2167926, ...   \n",
      "1   47.76.35.19  [[-11.76804, 10.914179, -5.559695, 3.2167926, ...   \n",
      "2  40.77.167.53  [[1.5779405, 6.094813, -2.093526, -5.3260446, ...   \n",
      "3   47.76.35.19  [[-11.76804, 10.914179, -5.559695, 3.2167926, ...   \n",
      "4   47.76.35.19  [[-11.76804, 10.914179, -5.559695, 3.2167926, ...   \n",
      "\n",
      "   bytes_sent referer                                         user_agent  \\\n",
      "0    0.000099      []  Mozilla/5.0 (Windows NT 10.0; Win64; x64) Appl...   \n",
      "1    0.000107      []  Mozilla/5.0 (Windows NT 10.0; Win64; x64) Appl...   \n",
      "2    0.000051      []  Mozilla/5.0 AppleWebKit/537.36 (KHTML, like Ge...   \n",
      "3    0.000099      []  Mozilla/5.0 (Windows NT 6.1; Win64; x64) Apple...   \n",
      "4    0.000107      []  Mozilla/5.0 (Windows NT 6.1; Win64; x64) Apple...   \n",
      "\n",
      "   hour_sin  hour_cos  minute_sin  minute_cos  second_sin  ...  \\\n",
      "0       0.0       1.0         0.0         1.0    0.000000  ...   \n",
      "1       0.0       1.0         0.0         1.0    0.104528  ...   \n",
      "2       0.0       1.0         0.0         1.0    0.587785  ...   \n",
      "3       0.0       1.0         0.0         1.0    0.587785  ...   \n",
      "4       0.0       1.0         0.0         1.0    0.669131  ...   \n",
      "\n",
      "   status_code_400  status_code_401  status_code_403  status_code_404  \\\n",
      "0            False            False            False            False   \n",
      "1            False            False            False            False   \n",
      "2            False            False            False             True   \n",
      "3            False            False            False            False   \n",
      "4            False            False            False            False   \n",
      "\n",
      "   status_code_504  request_method_CONNECT  request_method_GET  \\\n",
      "0            False                   False               False   \n",
      "1            False                   False               False   \n",
      "2            False                   False                True   \n",
      "3            False                   False               False   \n",
      "4            False                   False               False   \n",
      "\n",
      "   request_method_HEAD  request_method_OPTIONS  request_method_POST  \n",
      "0                 True                   False                False  \n",
      "1                 True                   False                False  \n",
      "2                False                   False                False  \n",
      "3                 True                   False                False  \n",
      "4                 True                   False                False  \n",
      "\n",
      "[5 rows x 26 columns]\n"
     ]
    }
   ],
   "source": [
    "print(df.head())"
   ]
  },
  {
   "cell_type": "code",
   "execution_count": 31,
   "id": "92958808-47cd-498a-b12c-4d016fc748e0",
   "metadata": {},
   "outputs": [],
   "source": [
    "df_copy3 = preprocessing_UA(df_copy3)"
   ]
  },
  {
   "cell_type": "code",
   "execution_count": 32,
   "id": "1c4581d0-ef8c-437a-b771-3ebf89158b67",
   "metadata": {},
   "outputs": [],
   "source": [
    "user_agent_column = df_copy3['user_agent']\n",
    "df['user_agent'] = user_agent_column"
   ]
  },
  {
   "cell_type": "code",
   "execution_count": 39,
   "id": "d3569b0a-b4c3-455b-8315-c212ede88f95",
   "metadata": {},
   "outputs": [
    {
     "name": "stdout",
     "output_type": "stream",
     "text": [
      "    remote_host                                      requested_url  \\\n",
      "0   47.76.35.19  [[-11.76804, 10.914179, -5.559695, 3.2167926, ...   \n",
      "1   47.76.35.19  [[-11.76804, 10.914179, -5.559695, 3.2167926, ...   \n",
      "2  40.77.167.53  [[1.5779405, 6.094813, -2.093526, -5.3260446, ...   \n",
      "3   47.76.35.19  [[-11.76804, 10.914179, -5.559695, 3.2167926, ...   \n",
      "4   47.76.35.19  [[-11.76804, 10.914179, -5.559695, 3.2167926, ...   \n",
      "\n",
      "   bytes_sent referer                                         user_agent  \\\n",
      "0    0.000099      []  [[-1.3626727, -0.8995736, 0.15880504, 5.833139...   \n",
      "1    0.000107      []  [[-1.3626727, -0.8995736, 0.15880504, 5.833139...   \n",
      "2    0.000051      []  [[-1.3626727, -0.8995736, 0.15880504, 5.833139...   \n",
      "3    0.000099      []  [[-1.3626727, -0.8995736, 0.15880504, 5.833139...   \n",
      "4    0.000107      []  [[-1.3626727, -0.8995736, 0.15880504, 5.833139...   \n",
      "\n",
      "   hour_sin  hour_cos  minute_sin  minute_cos  second_sin  ...  \\\n",
      "0       0.0       1.0         0.0         1.0    0.000000  ...   \n",
      "1       0.0       1.0         0.0         1.0    0.104528  ...   \n",
      "2       0.0       1.0         0.0         1.0    0.587785  ...   \n",
      "3       0.0       1.0         0.0         1.0    0.587785  ...   \n",
      "4       0.0       1.0         0.0         1.0    0.669131  ...   \n",
      "\n",
      "   status_code_400  status_code_401  status_code_403  status_code_404  \\\n",
      "0            False            False            False            False   \n",
      "1            False            False            False            False   \n",
      "2            False            False            False             True   \n",
      "3            False            False            False            False   \n",
      "4            False            False            False            False   \n",
      "\n",
      "   status_code_504  request_method_CONNECT  request_method_GET  \\\n",
      "0            False                   False               False   \n",
      "1            False                   False               False   \n",
      "2            False                   False                True   \n",
      "3            False                   False               False   \n",
      "4            False                   False               False   \n",
      "\n",
      "   request_method_HEAD  request_method_OPTIONS  request_method_POST  \n",
      "0                 True                   False                False  \n",
      "1                 True                   False                False  \n",
      "2                False                   False                False  \n",
      "3                 True                   False                False  \n",
      "4                 True                   False                False  \n",
      "\n",
      "[5 rows x 26 columns]\n"
     ]
    }
   ],
   "source": [
    "print(df.head())"
   ]
  },
  {
   "cell_type": "code",
   "execution_count": null,
   "id": "0950c33b-ccd5-4c66-85d8-ec8f18e4d451",
   "metadata": {},
   "outputs": [],
   "source": []
  }
 ],
 "metadata": {
  "kernelspec": {
   "display_name": "Python 3.9 (tf4)",
   "language": "python",
   "name": "tensorflowv4"
  },
  "language_info": {
   "codemirror_mode": {
    "name": "ipython",
    "version": 3
   },
   "file_extension": ".py",
   "mimetype": "text/x-python",
   "name": "python",
   "nbconvert_exporter": "python",
   "pygments_lexer": "ipython3",
   "version": "3.9.18"
  }
 },
 "nbformat": 4,
 "nbformat_minor": 5
}
