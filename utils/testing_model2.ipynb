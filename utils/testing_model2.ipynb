{
 "cells": [
  {
   "cell_type": "code",
   "execution_count": 1,
   "id": "3273d208-4a5c-4179-a3e7-266cce7bc939",
   "metadata": {},
   "outputs": [],
   "source": [
    "import onnx\n",
    "import os\n",
    "import wandb\n",
    "import onnxruntime as ort\n",
    "import numpy as np\n",
    "from utils_tbm import *\n",
    "from test_tbm import test as evals"
   ]
  },
  {
   "cell_type": "code",
   "execution_count": 2,
   "id": "86ddc18f-4db9-47dc-81fb-4cc61bd567ac",
   "metadata": {},
   "outputs": [],
   "source": [
    "model = onnx.load(os.getcwd()+\"/model.onnx\")\n",
    "(onnx.checker.check_model(model))"
   ]
  },
  {
   "cell_type": "code",
   "execution_count": null,
   "id": "80cbd268-d13f-42fb-ac6f-b29af13039f8",
   "metadata": {},
   "outputs": [],
   "source": [
    "print(model)"
   ]
  },
  {
   "cell_type": "code",
   "execution_count": 4,
   "id": "820f5b9c-ba86-43bd-a665-4c1651f42b1a",
   "metadata": {},
   "outputs": [],
   "source": [
    "\n",
    "train_data, _ = get_data_from_csv('../../preprocessed.csv', train=True)\n",
    "test_data, _ = get_data_from_csv('../../preprocessed.csv', train=False)\n",
    "test_loader = make_loader(test_data, batch_size=32)"
   ]
  },
  {
   "cell_type": "code",
   "execution_count": 5,
   "id": "46f500a7-c8a0-4409-bedb-23a8c5ff19fc",
   "metadata": {},
   "outputs": [],
   "source": [
    "remote_hosts = get_test_remote_hosts('../../preprocessed.csv')"
   ]
  },
  {
   "cell_type": "code",
   "execution_count": 7,
   "id": "9a889585-5168-462d-8620-f720fabecc1f",
   "metadata": {},
   "outputs": [
    {
     "name": "stdout",
     "output_type": "stream",
     "text": [
      "4015\n"
     ]
    }
   ],
   "source": [
    "print(len(remote_hosts))"
   ]
  },
  {
   "cell_type": "code",
   "execution_count": 45,
   "id": "1624ed64-c981-4d80-a6ae-5b4c88277e84",
   "metadata": {},
   "outputs": [
    {
     "name": "stdout",
     "output_type": "stream",
     "text": [
      "(1, 4015, 20, 25)\n"
     ]
    }
   ],
   "source": [
    "features_data = test_loader.dataset.tensors[0]\n",
    "\n",
    "# Convert to float, add an extra dimension, and convert to numpy array\n",
    "data_numpy = features_data.float().unsqueeze(0).numpy()\n",
    "reshaped_data = data_numpy.reshape((4015, 20, 25))\n",
    "print(data_numpy.shape)\n"
   ]
  },
  {
   "cell_type": "code",
   "execution_count": 46,
   "id": "7ea52826-9a74-40ea-ba80-593774e0c524",
   "metadata": {},
   "outputs": [],
   "source": [
    "session = ort.InferenceSession(\"model.onnx\")\n",
    "\n",
    "# Reshape data if necessary to match the input shape expected by the model\n",
    "input_name = session.get_inputs()[0].name\n",
    "output_name = session.get_outputs()[0].name\n",
    "\n",
    "# Run inference\n",
    "predictions = session.run([output_name], {input_name: reshaped_data})"
   ]
  },
  {
   "cell_type": "code",
   "execution_count": 59,
   "id": "125584a0-0e23-4466-ab5c-3945657b3d7d",
   "metadata": {
    "scrolled": true
   },
   "outputs": [
    {
     "name": "stdout",
     "output_type": "stream",
     "text": [
      "Data is considered anomalous.\n"
     ]
    }
   ],
   "source": [
    "mse_loss = np.mean(np.square(reshaped_data - predictions))\n",
    "threshold = 0.00001 \n",
    "if mse_loss > threshold:\n",
    "    print(\"Data is considered anomalous.\")\n",
    "else:\n",
    "    print(\"Data is within normal range.\")\n",
    "\n"
   ]
  },
  {
   "cell_type": "code",
   "execution_count": 61,
   "id": "1bf47236-07f3-4a07-bfc9-a0ca5d9f0263",
   "metadata": {},
   "outputs": [
    {
     "ename": "NameError",
     "evalue": "name 'remote_hosts_ordered' is not defined",
     "output_type": "error",
     "traceback": [
      "\u001b[1;31m---------------------------------------------------------------------------\u001b[0m",
      "\u001b[1;31mNameError\u001b[0m                                 Traceback (most recent call last)",
      "Cell \u001b[1;32mIn[61], line 23\u001b[0m\n\u001b[0;32m     20\u001b[0m     \u001b[38;5;66;03m# If the sum of differences exceeds a threshold, flag the sequence as anomalous\u001b[39;00m\n\u001b[0;32m     21\u001b[0m     \u001b[38;5;28;01mif\u001b[39;00m sum_diff \u001b[38;5;241m>\u001b[39m \u001b[38;5;241m0.001\u001b[39m:\n\u001b[0;32m     22\u001b[0m         \u001b[38;5;66;03m# Store the index of the anomalous sequence in the dictionary, keyed by remote_host\u001b[39;00m\n\u001b[1;32m---> 23\u001b[0m         anomalous_sequences[remote_hosts_ordered[i]] \u001b[38;5;241m=\u001b[39m i\n\u001b[0;32m     25\u001b[0m \u001b[38;5;66;03m# Print the indices of the anomalous sequences for each remote_host\u001b[39;00m\n\u001b[0;32m     26\u001b[0m \u001b[38;5;28;01mfor\u001b[39;00m host, indices \u001b[38;5;129;01min\u001b[39;00m anomalous_sequences\u001b[38;5;241m.\u001b[39mitems():\n",
      "\u001b[1;31mNameError\u001b[0m: name 'remote_hosts_ordered' is not defined"
     ]
    }
   ],
   "source": [
    "predictions = session.run([output_name], {input_name: reshaped_data})\n",
    "\n",
    "# Initialize a dictionary to hold the indices of anomalous sequences mapped to their remote_host\n",
    "anomalous_sequences = {}\n",
    "\n",
    "# Loop through each sequence in the reshaped data\n",
    "for i in range(predictions[0].shape[0]):\n",
    "    # Get the prediction for the current sequence\n",
    "    pred_seq = predictions[0][i]\n",
    "    \n",
    "    # Compare the prediction to the original sequence\n",
    "    orig_seq = reshaped_data[i]\n",
    "    \n",
    "    # Calculate the absolute difference between the prediction and the original sequence\n",
    "    diff = np.abs(pred_seq - orig_seq)\n",
    "    \n",
    "    # Sum the differences across all elements of the sequence\n",
    "    sum_diff = np.sum(diff)\n",
    "    \n",
    "    # If the sum of differences exceeds a threshold, flag the sequence as anomalous\n",
    "    if sum_diff > 0.001:\n",
    "        # Store the index of the anomalous sequence in the dictionary, keyed by remote_host\n",
    "        anomalous_sequences[remote_hosts_ordered[i]] = i\n",
    "\n",
    "# Print the indices of the anomalous sequences for each remote_host\n",
    "for host, indices in anomalous_sequences.items():\n",
    "    print(f\"{host} has anomalous sequences at indices: {indices}\")"
   ]
  },
  {
   "cell_type": "code",
   "execution_count": null,
   "id": "ac0665bb-9d7b-441c-81fe-8a2d9db03418",
   "metadata": {},
   "outputs": [],
   "source": []
  }
 ],
 "metadata": {
  "kernelspec": {
   "display_name": "Python 3 (ipykernel)",
   "language": "python",
   "name": "python3"
  },
  "language_info": {
   "codemirror_mode": {
    "name": "ipython",
    "version": 3
   },
   "file_extension": ".py",
   "mimetype": "text/x-python",
   "name": "python",
   "nbconvert_exporter": "python",
   "pygments_lexer": "ipython3",
   "version": "3.12.3"
  }
 },
 "nbformat": 4,
 "nbformat_minor": 5
}
